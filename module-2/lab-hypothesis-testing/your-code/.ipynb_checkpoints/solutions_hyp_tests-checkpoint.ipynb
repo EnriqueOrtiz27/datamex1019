{
 "cells": [
  {
   "cell_type": "markdown",
   "metadata": {},
   "source": [
    "# Before your start:\n",
    "- Read the README.md file\n",
    "- Comment as much as you can and use the resources (README.md file)\n",
    "- Happy learning!"
   ]
  },
  {
   "cell_type": "code",
   "execution_count": 1,
   "metadata": {},
   "outputs": [],
   "source": [
    "# import numpy and pandas\n",
    "import pandas as pd\n",
    "import numpy as np"
   ]
  },
  {
   "cell_type": "markdown",
   "metadata": {},
   "source": [
    "# Challenge 1 - Exploring the Data\n",
    "\n",
    "In this challenge, we will examine all salaries of employees of the City of Chicago. We will start by loading the dataset and examining its contents"
   ]
  },
  {
   "cell_type": "code",
   "execution_count": 2,
   "metadata": {},
   "outputs": [],
   "source": [
    "# Run this code:\n",
    "\n",
    "salaries = pd.read_csv('../Current_Employee_Names__Salaries__and_Position_Titles.csv')"
   ]
  },
  {
   "cell_type": "code",
   "execution_count": 3,
   "metadata": {},
   "outputs": [
    {
     "data": {
      "text/html": [
       "<div>\n",
       "<style scoped>\n",
       "    .dataframe tbody tr th:only-of-type {\n",
       "        vertical-align: middle;\n",
       "    }\n",
       "\n",
       "    .dataframe tbody tr th {\n",
       "        vertical-align: top;\n",
       "    }\n",
       "\n",
       "    .dataframe thead th {\n",
       "        text-align: right;\n",
       "    }\n",
       "</style>\n",
       "<table border=\"1\" class=\"dataframe\">\n",
       "  <thead>\n",
       "    <tr style=\"text-align: right;\">\n",
       "      <th></th>\n",
       "      <th>Name</th>\n",
       "      <th>Job Titles</th>\n",
       "      <th>Department</th>\n",
       "      <th>Full or Part-Time</th>\n",
       "      <th>Salary or Hourly</th>\n",
       "      <th>Typical Hours</th>\n",
       "      <th>Annual Salary</th>\n",
       "      <th>Hourly Rate</th>\n",
       "    </tr>\n",
       "  </thead>\n",
       "  <tbody>\n",
       "    <tr>\n",
       "      <th>0</th>\n",
       "      <td>AARON,  JEFFERY M</td>\n",
       "      <td>SERGEANT</td>\n",
       "      <td>POLICE</td>\n",
       "      <td>F</td>\n",
       "      <td>Salary</td>\n",
       "      <td>NaN</td>\n",
       "      <td>101442.0</td>\n",
       "      <td>NaN</td>\n",
       "    </tr>\n",
       "    <tr>\n",
       "      <th>1</th>\n",
       "      <td>AARON,  KARINA</td>\n",
       "      <td>POLICE OFFICER (ASSIGNED AS DETECTIVE)</td>\n",
       "      <td>POLICE</td>\n",
       "      <td>F</td>\n",
       "      <td>Salary</td>\n",
       "      <td>NaN</td>\n",
       "      <td>94122.0</td>\n",
       "      <td>NaN</td>\n",
       "    </tr>\n",
       "    <tr>\n",
       "      <th>2</th>\n",
       "      <td>AARON,  KIMBERLEI R</td>\n",
       "      <td>CHIEF CONTRACT EXPEDITER</td>\n",
       "      <td>GENERAL SERVICES</td>\n",
       "      <td>F</td>\n",
       "      <td>Salary</td>\n",
       "      <td>NaN</td>\n",
       "      <td>101592.0</td>\n",
       "      <td>NaN</td>\n",
       "    </tr>\n",
       "    <tr>\n",
       "      <th>3</th>\n",
       "      <td>ABAD JR,  VICENTE M</td>\n",
       "      <td>CIVIL ENGINEER IV</td>\n",
       "      <td>WATER MGMNT</td>\n",
       "      <td>F</td>\n",
       "      <td>Salary</td>\n",
       "      <td>NaN</td>\n",
       "      <td>110064.0</td>\n",
       "      <td>NaN</td>\n",
       "    </tr>\n",
       "  </tbody>\n",
       "</table>\n",
       "</div>"
      ],
      "text/plain": [
       "                  Name                              Job Titles  \\\n",
       "0    AARON,  JEFFERY M                                SERGEANT   \n",
       "1      AARON,  KARINA   POLICE OFFICER (ASSIGNED AS DETECTIVE)   \n",
       "2  AARON,  KIMBERLEI R                CHIEF CONTRACT EXPEDITER   \n",
       "3  ABAD JR,  VICENTE M                       CIVIL ENGINEER IV   \n",
       "\n",
       "         Department Full or Part-Time Salary or Hourly  Typical Hours  \\\n",
       "0            POLICE                 F           Salary            NaN   \n",
       "1            POLICE                 F           Salary            NaN   \n",
       "2  GENERAL SERVICES                 F           Salary            NaN   \n",
       "3       WATER MGMNT                 F           Salary            NaN   \n",
       "\n",
       "   Annual Salary  Hourly Rate  \n",
       "0       101442.0          NaN  \n",
       "1        94122.0          NaN  \n",
       "2       101592.0          NaN  \n",
       "3       110064.0          NaN  "
      ]
     },
     "execution_count": 3,
     "metadata": {},
     "output_type": "execute_result"
    }
   ],
   "source": [
    "# Your code here:\n",
    "salaries.head(4)"
   ]
  },
  {
   "cell_type": "markdown",
   "metadata": {},
   "source": [
    "We see from looking at the `head` function that there is quite a bit of missing data. Let's examine how much missing data is in each column. Produce this output in the cell below"
   ]
  },
  {
   "cell_type": "code",
   "execution_count": 4,
   "metadata": {},
   "outputs": [
    {
     "name": "stdout",
     "output_type": "stream",
     "text": [
      "Name                     0\n",
      "Job Titles               0\n",
      "Department               0\n",
      "Full or Part-Time        0\n",
      "Salary or Hourly         0\n",
      "Typical Hours        25161\n",
      "Annual Salary         8022\n",
      "Hourly Rate          25161\n",
      "dtype: int64\n"
     ]
    }
   ],
   "source": [
    "# Your code here:\n",
    "print(salaries.isnull().sum())\n"
   ]
  },
  {
   "cell_type": "markdown",
   "metadata": {},
   "source": [
    "Let's also look at the count of hourly vs. salaried employees. Write the code in the cell below"
   ]
  },
  {
   "cell_type": "code",
   "execution_count": 5,
   "metadata": {},
   "outputs": [
    {
     "name": "stdout",
     "output_type": "stream",
     "text": [
      "Salary    25161\n",
      "Hourly     8022\n",
      "Name: Salary or Hourly, dtype: int64\n"
     ]
    }
   ],
   "source": [
    "# Your code here:\n",
    "print(salaries['Salary or Hourly'].value_counts())\n"
   ]
  },
  {
   "cell_type": "markdown",
   "metadata": {},
   "source": [
    "What this information indicates is that the table contains information about two types of employees - salaried and hourly. Some columns apply only to one type of employee while other columns only apply to another kind. This is why there are so many missing values. Therefore, we will not do anything to handle the missing values."
   ]
  },
  {
   "cell_type": "markdown",
   "metadata": {},
   "source": [
    "There are different departments in the city. List all departments and the count of employees in each department."
   ]
  },
  {
   "cell_type": "code",
   "execution_count": 6,
   "metadata": {},
   "outputs": [
    {
     "name": "stdout",
     "output_type": "stream",
     "text": [
      "                        Name\n",
      "Department                  \n",
      "POLICE                 13414\n",
      "FIRE                    4641\n",
      "STREETS & SAN           2198\n",
      "OEMC                    2102\n",
      "WATER MGMNT             1879\n",
      "AVIATION                1629\n",
      "TRANSPORTN              1140\n",
      "PUBLIC LIBRARY          1015\n",
      "GENERAL SERVICES         980\n",
      "FAMILY & SUPPORT         615\n",
      "FINANCE                  560\n",
      "HEALTH                   488\n",
      "CITY COUNCIL             411\n",
      "LAW                      407\n",
      "BUILDINGS                269\n",
      "COMMUNITY DEVELOPMENT    207\n",
      "BUSINESS AFFAIRS         171\n",
      "COPA                     116\n",
      "BOARD OF ELECTION        107\n",
      "DoIT                      99\n",
      "PROCUREMENT               92\n",
      "INSPECTOR GEN             87\n",
      "MAYOR'S OFFICE            85\n",
      "CITY CLERK                84\n",
      "ANIMAL CONTRL             81\n",
      "HUMAN RESOURCES           79\n",
      "CULTURAL AFFAIRS          65\n",
      "BUDGET & MGMT             46\n",
      "ADMIN HEARNG              39\n",
      "DISABILITIES              28\n",
      "TREASURER                 22\n",
      "HUMAN RELATIONS           16\n",
      "BOARD OF ETHICS            8\n",
      "POLICE BOARD               2\n",
      "LICENSE APPL COMM          1\n"
     ]
    }
   ],
   "source": [
    "# Your code here:\n",
    "x = salaries.groupby('Department').agg({'Name':'count'})\n",
    "print(x.sort_values(by= 'Name', ascending=False))"
   ]
  },
  {
   "cell_type": "markdown",
   "metadata": {},
   "source": [
    "# Challenge 2 - Hypothesis Tests\n",
    "\n",
    "In this section of the lab, we will test whether the hourly wage of all hourly workers is significantly different from $30/hr. Import the correct one sample test function from scipy and perform the hypothesis test for a 95% two sided confidence interval."
   ]
  },
  {
   "cell_type": "code",
   "execution_count": 7,
   "metadata": {},
   "outputs": [],
   "source": [
    "#calculamos media y varianza muestrales\n",
    "data = salaries['Hourly Rate'].dropna()"
   ]
  },
  {
   "cell_type": "code",
   "execution_count": 8,
   "metadata": {},
   "outputs": [
    {
     "name": "stdout",
     "output_type": "stream",
     "text": [
      "32.78855771628024 12.112572684276799\n",
      "8022\n"
     ]
    }
   ],
   "source": [
    "mean = data.mean()\n",
    "std = data.std()\n",
    "print(mean, std)\n",
    "print(len(data))"
   ]
  },
  {
   "cell_type": "code",
   "execution_count": 9,
   "metadata": {},
   "outputs": [],
   "source": [
    "#generamos la variable aleatoria con esas medidas:\n",
    "hourly_workers = np.random.normal(mean, std, 8022)"
   ]
  },
  {
   "cell_type": "code",
   "execution_count": 10,
   "metadata": {},
   "outputs": [
    {
     "name": "stdout",
     "output_type": "stream",
     "text": [
      "Estadístico de prueba: 20.819697205437013\n",
      "Valor p: 4.2020955276702617e-94\n",
      "\n",
      "Por lo tanto, rechazamos la hipótesis nula; nuestro valor p es pequeño.\n"
     ]
    },
    {
     "data": {
      "text/plain": [
       "<Figure size 600x600 with 1 Axes>"
      ]
     },
     "metadata": {},
     "output_type": "display_data"
    }
   ],
   "source": [
    "# Your code here:\n",
    "from scipy.stats import ttest_1samp\n",
    "import matplotlib.pyplot as plt\n",
    "data = salaries['Hourly Rate'].dropna()\n",
    "#print(set(data))\n",
    "x, y = ttest_1samp(hourly_workers, 30)\n",
    "print(f\"Estadístico de prueba: {x}\")\n",
    "print(f\"Valor p: {y/2}\")\n",
    "print(\"\\nPor lo tanto, rechazamos la hipótesis nula; nuestro valor p es pequeño.\")\n",
    "\n",
    "fig, ax = plt.subplots(1,1, figsize=(6,6))\n",
    "plt.hist(data,bins=20)\n",
    "plt.grid()\n",
    "binwidth=10\n",
    "plt.show();\n"
   ]
  },
  {
   "cell_type": "markdown",
   "metadata": {},
   "source": [
    "We are also curious about salaries in the police force. The chief of police in Chicago claimed in a press briefing that salaries this year are higher than last year's mean of $86000/year a year for all salaried employees. Test this one sided hypothesis using a 95% confidence interval.\n",
    "\n",
    "Hint: A one tailed test has a p-value that is half of the two tailed p-value. If our hypothesis is greater than, then to reject, the test statistic must also be positive."
   ]
  },
  {
   "cell_type": "code",
   "execution_count": 11,
   "metadata": {},
   "outputs": [],
   "source": [
    "data = salaries['Annual Salary'].dropna()\n"
   ]
  },
  {
   "cell_type": "code",
   "execution_count": 12,
   "metadata": {},
   "outputs": [
    {
     "name": "stdout",
     "output_type": "stream",
     "text": [
      "86786.99979015143 21041.35460162839\n",
      "25161\n"
     ]
    }
   ],
   "source": [
    "mean = data.mean()\n",
    "std = data.std()\n",
    "print(mean, std)\n",
    "print(len(data))"
   ]
  },
  {
   "cell_type": "code",
   "execution_count": 13,
   "metadata": {},
   "outputs": [],
   "source": [
    "#generamos la variable aleatoria con esas medidas:\n",
    "yearly_salary = np.random.normal(mean, std, 8022)"
   ]
  },
  {
   "cell_type": "code",
   "execution_count": 22,
   "metadata": {},
   "outputs": [
    {
     "name": "stdout",
     "output_type": "stream",
     "text": [
      "Estadístico de prueba: 2.207982968948785\n",
      "Valor p: 0.027273650361102134\n",
      "\n",
      "Por lo tanto, rechazamos la hipótesis nula; nuestro valor p es inferior al 5%.\n"
     ]
    }
   ],
   "source": [
    "# Your code here:\n",
    "data = salaries['Annual Salary'].dropna()\n",
    "\n",
    "x, y = ttest_1samp(yearly_salary, 86000)\n",
    "print(f\"Estadístico de prueba: {x}\")\n",
    "print(f\"Valor p: {y}\")\n",
    "print(\"\\nPor lo tanto, rechazamos la hipótesis nula; nuestro valor p es inferior al 5%.\")\n",
    "\n",
    "\n"
   ]
  },
  {
   "cell_type": "code",
   "execution_count": 23,
   "metadata": {},
   "outputs": [
    {
     "data": {
      "text/plain": [
       "86786.99979015143"
      ]
     },
     "execution_count": 23,
     "metadata": {},
     "output_type": "execute_result"
    }
   ],
   "source": [
    "data.mean() #muy similar a 86,000. Con la prueba vemos que no es estadísticamente significativa\n",
    "#la diferencia"
   ]
  },
  {
   "cell_type": "code",
   "execution_count": 24,
   "metadata": {},
   "outputs": [
    {
     "data": {
      "image/png": "[encoded data removed]",
      "text/plain": [
       "<Figure size 432x432 with 1 Axes>"
      ]
     },
     "metadata": {
      "needs_background": "light"
     },
     "output_type": "display_data"
    }
   ],
   "source": [
    "#grafiquemos\n",
    "fig, ax = plt.subplots(1,1, figsize=(6,6))\n",
    "plt.hist(data,bins=20)\n",
    "binwidth=10\n",
    "plt.show();"
   ]
  },
  {
   "cell_type": "markdown",
   "metadata": {},
   "source": [
    "Using the `crosstab` function, find the department that has the most hourly workers. "
   ]
  },
  {
   "cell_type": "code",
   "execution_count": 28,
   "metadata": {},
   "outputs": [
    {
     "name": "stdout",
     "output_type": "stream",
     "text": [
      "Salary or Hourly   Hourly  Salary\n",
      "Department                       \n",
      "ADMIN HEARNG            0      39\n",
      "ANIMAL CONTRL          19      62\n",
      "AVIATION             1082     547\n",
      "BOARD OF ELECTION       0     107\n",
      "BOARD OF ETHICS         0       8\n"
     ]
    }
   ],
   "source": [
    "# Your code here:\n",
    "x = pd.crosstab(salaries['Department'], salaries['Salary or Hourly'])\n",
    "print(x.head()) #The Aviation Department has the most hourly workers.\n",
    "\n"
   ]
  },
  {
   "cell_type": "markdown",
   "metadata": {},
   "source": [
    "The workers from the department with the most hourly workers have complained that their hourly wage is less than $35/hour. Using a one sample t-test, test this one-sided hypothesis at the 95% confidence level."
   ]
  },
  {
   "cell_type": "code",
   "execution_count": 37,
   "metadata": {},
   "outputs": [],
   "source": [
    "# Your code here:\n",
    "x = salaries['Hourly Rate'][(salaries.Department=='AVIATION') & (salaries['Salary or Hourly']=='Hourly')]\n",
    "datos = x.values\n",
    "mean, std, length = datos.mean(), datos.std(), len(datos)"
   ]
  },
  {
   "cell_type": "code",
   "execution_count": 40,
   "metadata": {},
   "outputs": [
    {
     "name": "stdout",
     "output_type": "stream",
     "text": [
      "35.63390942698706\n"
     ]
    }
   ],
   "source": [
    "#generamos la simulación de datos normales\n",
    "interjet = np.random.normal(mean, std, length)\n",
    "print(mean) \n",
    "#vemos que es 35.633; después veremos que esto no es estadísticamente menor a 35."
   ]
  },
  {
   "cell_type": "code",
   "execution_count": 39,
   "metadata": {},
   "outputs": [
    {
     "name": "stdout",
     "output_type": "stream",
     "text": [
      "Estadístico de prueba: 3.8865239330411527\n",
      "Valor p: 5.393880190038495e-05\n",
      "\n",
      "Por lo tanto, rechazamos la hipótesis nula; nuestro valor p es inferior al 5%.\n"
     ]
    }
   ],
   "source": [
    "x, y = ttest_1samp(interjet, 35)\n",
    "print(f\"Estadístico de prueba: {x}\")\n",
    "print(f\"Valor p: {y/2}\")\n",
    "print(\"\\nPor lo tanto, rechazamos la hipótesis nula; nuestro valor p es inferior al 5%.\")\n"
   ]
  },
  {
   "cell_type": "code",
   "execution_count": 44,
   "metadata": {},
   "outputs": [
    {
     "data": {
      "image/png": "[encoded data removed]",
      "text/plain": [
       "<Figure size 432x432 with 1 Axes>"
      ]
     },
     "metadata": {
      "needs_background": "light"
     },
     "output_type": "display_data"
    }
   ],
   "source": [
    "fig, ax = plt.subplots(1,1, figsize=(6,6))\n",
    "plt.hist(interjet,bins=25)\n",
    "binwidth=10\n",
    "plt.grid()\n",
    "plt.show();\n",
    "\n",
    "#vemos que la media sí está muy cerca de 35."
   ]
  },
  {
   "cell_type": "markdown",
   "metadata": {},
   "source": [
    "# Challenge 3 - Constructing Confidence Intervals\n",
    "\n",
    "While testing our hypothesis is a great way to gather empirical evidence for accepting or rejecting the hypothesis, another way to gather evidence is by creating a confidence interval. A confidence interval gives us information about the true mean of the population. So for a 95% confidence interval, we are 95% sure that the mean of the population is within the confidence interval. \n",
    ").\n",
    "\n",
    "To read more about confidence intervals, click [here](https://en.wikipedia.org/wiki/Confidence_interval).\n",
    "\n",
    "\n",
    "In the cell below, we will construct a 95% confidence interval for the mean hourly wage of all hourly workers. \n",
    "\n",
    "The confidence interval is computed in SciPy using the `t.interval` function. You can read more about this function [here](https://docs.scipy.org/doc/scipy-0.14.0/reference/generated/scipy.stats.t.html).\n",
    "\n",
    "To compute the confidence interval of the hourly wage, use the 0.95 for the confidence level, number of rows - 1 for degrees of freedom, the mean of the sample for the location parameter and the standard error for the scale. The standard error can be computed using [this](https://docs.scipy.org/doc/scipy/reference/generated/scipy.stats.sem.html) function in SciPy."
   ]
  },
  {
   "cell_type": "code",
   "execution_count": 65,
   "metadata": {},
   "outputs": [
    {
     "name": "stdout",
     "output_type": "stream",
     "text": [
      "32.78855771628024 12.112572684276799 8022\n"
     ]
    }
   ],
   "source": [
    "#primero encontramos los datos\n",
    "hw = salaries['Hourly Rate'][(salaries['Salary or Hourly']=='Hourly')]\n",
    "mean = hw.mean()\n",
    "std = hw.std()\n",
    "length = len(hw)\n",
    "SE = std/np.sqrt(length) #standard error\n",
    "print(mean,std,length)"
   ]
  },
  {
   "cell_type": "code",
   "execution_count": 66,
   "metadata": {},
   "outputs": [
    {
     "name": "stdout",
     "output_type": "stream",
     "text": [
      "El intervalo de confianza al 95% para el promedio de salario por hora es: (32.780077183391256, 32.79703824916922)\n"
     ]
    }
   ],
   "source": [
    "from scipy.stats import t\n",
    "inter = t.interval(alpha=.05, df= length-1, loc=mean, scale=SE)\n",
    "print(f\"El intervalo de confianza al 95% para el promedio de salario \\\n",
    "por hora es: {inter}\")\n",
    "\n",
    "#alpha es .05 porque los intervalos de confianza se contruyen al nivel 1-alpha. \n",
    "\n"
   ]
  },
  {
   "cell_type": "markdown",
   "metadata": {},
   "source": [
    "Now construct the 95% confidence interval for all salaried employeed in the police in the cell below."
   ]
  },
  {
   "cell_type": "code",
   "execution_count": 67,
   "metadata": {},
   "outputs": [],
   "source": [
    "#Primero sacamos la info. "
   ]
  },
  {
   "cell_type": "code",
   "execution_count": 68,
   "metadata": {},
   "outputs": [],
   "source": [
    "x = salaries['Annual Salary'][(salaries.Department=='POLICE') & (salaries['Salary or Hourly']=='Salary')]"
   ]
  },
  {
   "cell_type": "code",
   "execution_count": 69,
   "metadata": {},
   "outputs": [
    {
     "name": "stdout",
     "output_type": "stream",
     "text": [
      "86486.41450313339\n"
     ]
    }
   ],
   "source": [
    "mean = x.mean()\n",
    "std = x.std()\n",
    "length = len(x)\n",
    "SE = std/np.sqrt(length)\n",
    "print(mean)"
   ]
  },
  {
   "cell_type": "code",
   "execution_count": 70,
   "metadata": {},
   "outputs": [
    {
     "name": "stdout",
     "output_type": "stream",
     "text": [
      "El intervalo de confianza al 95% para el promedio de salario por hora es: (86476.5176546444, 86496.31135162238)\n"
     ]
    }
   ],
   "source": [
    "inter = t.interval(alpha=.05, df= length-1, loc=mean, scale=SE)\n",
    "print(f\"El intervalo de confianza al 95% para el promedio de salario \\\n",
    "por hora es: {inter}\")"
   ]
  },
  {
   "cell_type": "markdown",
   "metadata": {},
   "source": [
    "# Challenge 4 - Hypothesis Tests of Proportions\n",
    "\n",
    "Another type of one sample test is a hypothesis test of proportions. In this test, we examine whether the proportion of a group in our sample is significantly different than a fraction. \n",
    "\n",
    "You can read more about one sample proportion tests [here](http://sphweb.bumc.bu.edu/otlt/MPH-Modules/BS/SAS/SAS6-CategoricalData/SAS6-CategoricalData2.html).\n",
    "\n",
    "In the cell below, use the `proportions_ztest` function from `statsmodels` to perform a hypothesis test that will determine whether the number of hourly workers in the City of Chicago is significantly different from 25% at the 95% confidence level."
   ]
  },
  {
   "cell_type": "code",
   "execution_count": 80,
   "metadata": {},
   "outputs": [
    {
     "name": "stdout",
     "output_type": "stream",
     "text": [
      "8022\n"
     ]
    }
   ],
   "source": [
    "from statsmodels.stats.proportion import proportions_ztest\n",
    "#primero encontremos el número de hourly workers en Chicago\n",
    "hw = salaries['Hourly Rate'][(salaries['Salary or Hourly']=='Hourly')]\n",
    "#proportion = len(hw)/len(salaries)\n",
    "print(len(hw))\n"
   ]
  },
  {
   "cell_type": "code",
   "execution_count": 98,
   "metadata": {},
   "outputs": [
    {
     "name": "stdout",
     "output_type": "stream",
     "text": [
      "El p valor es 0.0004481127249057967; rechazamos Ho\n",
      "El estadístico de prueba es: -3.5099964213703005\n"
     ]
    }
   ],
   "source": [
    "x, y = proportions_ztest(8022, 33183, .25, alternative='two-sided')\n",
    "print(f\"El p valor es {y}; rechazamos Ho\")\n",
    "print(f\"El estadístico de prueba es: {x}\")\n"
   ]
  },
  {
   "cell_type": "code",
   "execution_count": null,
   "metadata": {},
   "outputs": [],
   "source": [
    "# statsmodels.stats.proportion.proportions_ztest(count, nobs,\n",
    "#value=None, alternative='two-sided', prop_var=False)[source]"
   ]
  },
  {
   "cell_type": "code",
   "execution_count": 85,
   "metadata": {},
   "outputs": [],
   "source": [
    "#ahora lo quiero hacer a mano y ver si sale. "
   ]
  },
  {
   "cell_type": "code",
   "execution_count": 86,
   "metadata": {},
   "outputs": [
    {
     "data": {
      "text/plain": [
       "0.24175029382515142"
      ]
     },
     "execution_count": 86,
     "metadata": {},
     "output_type": "execute_result"
    }
   ],
   "source": [
    "p_hat = 8022/len(salaries)\n",
    "p_hat"
   ]
  },
  {
   "cell_type": "code",
   "execution_count": 87,
   "metadata": {},
   "outputs": [
    {
     "data": {
      "text/plain": [
       "-1.7063934428910539"
      ]
     },
     "execution_count": 87,
     "metadata": {},
     "output_type": "execute_result"
    }
   ],
   "source": [
    "estadistico = (p_hat-.25)/np.sqrt(.25*.75/8022)\n",
    "estadistico"
   ]
  },
  {
   "cell_type": "code",
   "execution_count": 88,
   "metadata": {},
   "outputs": [],
   "source": [
    "#el valor crítico es 1.96. Construyamos el intervalo de confianza. "
   ]
  },
  {
   "cell_type": "code",
   "execution_count": 101,
   "metadata": {},
   "outputs": [
    {
     "name": "stdout",
     "output_type": "stream",
     "text": [
      "[0.23238105362422798, 0.2511195340260749]\n"
     ]
    }
   ],
   "source": [
    "lim_inferior = p_hat -1.96*np.sqrt(p_hat*(1-p_hat)/8022)\n",
    "lim_superior = p_hat +1.96*np.sqrt(p_hat*(1-p_hat)/8022)\n",
    "print(list(tuple((lim_inferior, lim_superior))))"
   ]
  },
  {
   "cell_type": "code",
   "execution_count": null,
   "metadata": {},
   "outputs": [],
   "source": [
    "#irónicamente, me da más confianza este resultado que lo otro que hice. \n",
    "#el intervalo cubre la proporción que encontramos en la vida real, \n",
    "# y dado que los intervalos de confianza son análogos a las pruebas de Hipótesis,\n",
    "#no podemos rechazar Ho. "
   ]
  }
 ],
 "metadata": {
  "kernelspec": {
   "display_name": "Python 3",
   "language": "python",
   "name": "python3"
  },
  "language_info": {
   "codemirror_mode": {
    "name": "ipython",
    "version": 3
   },
   "file_extension": ".py",
   "mimetype": "text/x-python",
   "name": "python",
   "nbconvert_exporter": "python",
   "pygments_lexer": "ipython3",
   "version": "3.7.5"
  }
 },
 "nbformat": 4,
 "nbformat_minor": 2
}
