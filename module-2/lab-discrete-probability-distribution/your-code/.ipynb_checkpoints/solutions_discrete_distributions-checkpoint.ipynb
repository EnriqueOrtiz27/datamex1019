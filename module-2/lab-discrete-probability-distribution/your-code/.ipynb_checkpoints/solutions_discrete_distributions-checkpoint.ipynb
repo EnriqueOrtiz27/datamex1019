{
 "cells": [
  {
   "cell_type": "markdown",
   "metadata": {},
   "source": [
    "# Before your start:\n",
    "\n",
    "    Read the README.md file\n",
    "    Comment as much as you can and use the resources (README.md file)\n",
    "    Happy learning!\n",
    "\n",
    "*Notes:* \n",
    "\n",
    "- Solve the questions with python.\n",
    "\n",
    "- Round the final answer to three decimal places."
   ]
  },
  {
   "cell_type": "markdown",
   "metadata": {},
   "source": [
    "## Bernoulli's Distribution\n",
    "\n",
    "In a basket containing 100 fruits, there are 60 apples and 40 oranges. \n",
    "\n",
    "A fruit is picked randomly from the basket. \n",
    "\n",
    "1. **What is the probability that the fruit is apple?**\n",
    "1. **What is the probability that it is an orange?**"
   ]
  },
  {
   "cell_type": "code",
   "execution_count": 4,
   "metadata": {},
   "outputs": [
    {
     "name": "stdout",
     "output_type": "stream",
     "text": [
      "Probability that the fruit is an apple: 0.6\n",
      "Probability that the fruit is an orange: 0.4\n"
     ]
    }
   ],
   "source": [
    "\"\"\"\n",
    "Calculate:\n",
    "p = probability that the fruit is an apple \n",
    "q = probability that the fruit is an orange\n",
    "\"\"\"\n",
    "\n",
    "p = 60/100\n",
    "q = 1-p\n",
    "\n",
    "print(f\"Probability that the fruit is an apple: {p}\")\n",
    "print(f\"Probability that the fruit is an orange: {1-p}\")"
   ]
  },
  {
   "cell_type": "markdown",
   "metadata": {},
   "source": [
    "Now we take a random sample of 20 fruits from the basket. After each fruit is taken, a new fruit of the same type is replaced in the basket. Therefore, every time we are taking 1 fruit from 100 fruits. \n",
    "\n",
    "1. **What is the probability that the first 5 fruits are all apples?**\n",
    "\n",
    "1. **What is the probability that the first 5 fruits are all apples and the next 15 fruits are all oranges?**\n",
    "\n",
    "You can include the `p` and `q` probabilities you previous calculated in your solution."
   ]
  },
  {
   "cell_type": "code",
   "execution_count": 5,
   "metadata": {},
   "outputs": [
    {
     "name": "stdout",
     "output_type": "stream",
     "text": [
      "Probabilidad de que las primeras cinco sean manzanas: 0.07775999999999998\n"
     ]
    }
   ],
   "source": [
    "\"\"\"\n",
    "La probabilidad de que las primeras cinco sean manzanas no es nada más que p^5\n",
    "\"\"\"\n",
    "print(f\"Probabilidad de que las primeras cinco sean manzanas: {p**5}\")"
   ]
  },
  {
   "cell_type": "code",
   "execution_count": 6,
   "metadata": {},
   "outputs": [
    {
     "name": "stdout",
     "output_type": "stream",
     "text": [
      "Probabilidad de que las primeras cinco sean manzanas y las siguientes 15 sean naranjas: 8.349416423424006e-08\n"
     ]
    }
   ],
   "source": [
    "\"\"\"\n",
    "El segundo problema es similar. Recordemos que solo hay UNA manera de lograr estos problemas,\n",
    "por eso son bernoulli y no binomial. No necesitamos combinatoria.\n",
    "\"\"\"\n",
    "print(f\"Probabilidad de que las primeras cinco sean manzanas y las \\\n",
    "siguientes 15 sean naranjas: {(p**5)*(q**15)}\")\n"
   ]
  },
  {
   "cell_type": "markdown",
   "metadata": {},
   "source": [
    "## Binomial Distribution\n",
    "\n",
    "Similar to the above problem, this time again we randomly sample 20 fruits.\n",
    "\n",
    "**What is the probability that this time the sample contains 5 apples and 15 oranges?**\n",
    "\n",
    "Please note that this time the order of the fruits being picked does not matter."
   ]
  },
  {
   "cell_type": "code",
   "execution_count": 7,
   "metadata": {},
   "outputs": [],
   "source": [
    "from scipy.stats import binom"
   ]
  },
  {
   "cell_type": "code",
   "execution_count": 8,
   "metadata": {},
   "outputs": [
    {
     "name": "stdout",
     "output_type": "stream",
     "text": [
      "La probabilidad de que haya 5 manzanas y 15 naranjas es 0.0012944935222876511\n"
     ]
    }
   ],
   "source": [
    "#nbinom.pmf(k, n, p)\n",
    "#recordar que el éxito es manzanas en este caso, y queremos 5\n",
    "x = binom.pmf(5,20,p)\n",
    "print(f\"La probabilidad de que haya 5 manzanas y 15 naranjas es {x}\")"
   ]
  },
  {
   "cell_type": "code",
   "execution_count": 9,
   "metadata": {},
   "outputs": [
    {
     "name": "stdout",
     "output_type": "stream",
     "text": [
      "La probabilidad de que haya 5 manzanas y 15 naranjas es 0.0012944935222876511\n"
     ]
    }
   ],
   "source": [
    "#obviamente, el resultado es el mismo si el éxito son naranjas y buscamos 15.\n",
    "y = binom.pmf(15,20,.4)\n",
    "print(f\"La probabilidad de que haya 5 manzanas y 15 naranjas es {y}\")"
   ]
  },
  {
   "cell_type": "markdown",
   "metadata": {},
   "source": [
    "In the lesson we also discussed CDF (cumulative distribution function). In the context of the above problem, **what is the probability that less than 5 fruits picked are apples?**\n",
    "\n",
    "Write the formula and calculate the probability below."
   ]
  },
  {
   "cell_type": "code",
   "execution_count": 10,
   "metadata": {},
   "outputs": [
    {
     "data": {
      "text/plain": [
       "0.001611524643456288"
      ]
     },
     "execution_count": 10,
     "metadata": {},
     "output_type": "execute_result"
    }
   ],
   "source": [
    "z = binom.cdf(5,20,p)\n",
    "z"
   ]
  },
  {
   "cell_type": "markdown",
   "metadata": {},
   "source": [
    "**Plot the PDF (probability distributiom function) for the above binomial distribution.**\n",
    "\n",
    "*Hint: The range of x in a binomial distribution is from `0` to `n`.*"
   ]
  },
  {
   "cell_type": "code",
   "execution_count": 14,
   "metadata": {},
   "outputs": [
    {
     "data": {
      "image/png": "[encoded data removed]",
      "text/plain": [
       "<Figure size 432x288 with 1 Axes>"
      ]
     },
     "metadata": {
      "needs_background": "light"
     },
     "output_type": "display_data"
    }
   ],
   "source": [
    "# Please label the axes and give a title to the plot \n",
    "import matplotlib.pyplot as plt\n",
    "%matplotlib inline\n",
    "x=[i for i in range(5)]\n",
    "y=[binom.pmf(e, 20, p) for e in x]\n",
    "plt.title(\"Probability Distribution Function\")\n",
    "plt.xlabel(\"Number of Apples Picked\")\n",
    "plt.ylabel(\"Probability\")\n",
    "plt.plot(x, y);"
   ]
  },
  {
   "cell_type": "markdown",
   "metadata": {},
   "source": [
    "## Poisson Distribution\n",
    "\n",
    "In this challenge you are required to use the Math library in python to solve the problems.\n",
    "\n",
    "In the UEFA champions league tournament, the average number of goals scored in a match is 2.3. \n",
    "\n",
    "**What is the probability that the number of goals scored in a match is 5?**\n",
    "\n",
    "*Hint: Use the exp() in the math library*\n",
    "\n",
    "And to calculate the factorial, you can use the following code:\n",
    "\n",
    "```python\n",
    "import math\n",
    "math.factorial(n) # n is the number you want to find the factorial of\n",
    "```"
   ]
  },
  {
   "cell_type": "code",
   "execution_count": 15,
   "metadata": {},
   "outputs": [
    {
     "name": "stdout",
     "output_type": "stream",
     "text": [
      "La probabilidad de que se metan 5 goles es 0.0537750255819468\n"
     ]
    }
   ],
   "source": [
    "import numpy as np\n",
    "import math\n",
    "#similar al lab de distribuciones continuas \n",
    "\n",
    "prob = (np.exp(-2.3)*(2.3)**5)/ math.factorial(5)\n",
    "print(f\"La probabilidad de que se metan 5 goles es {prob}\")"
   ]
  },
  {
   "cell_type": "markdown",
   "metadata": {},
   "source": [
    "**Draw a poisson probability distribution plot for the number of goals to be between 0 to 10.**"
   ]
  },
  {
   "cell_type": "code",
   "execution_count": 16,
   "metadata": {},
   "outputs": [],
   "source": [
    "def poisson_prob(k):\n",
    "    x = (np.exp(-k)*(2.3)**k)/(math.factorial(k))\n",
    "    return x"
   ]
  },
  {
   "cell_type": "code",
   "execution_count": 17,
   "metadata": {},
   "outputs": [
    {
     "data": {
      "image/png": "[encoded data removed]",
      "text/plain": [
       "<Figure size 432x288 with 1 Axes>"
      ]
     },
     "metadata": {
      "needs_background": "light"
     },
     "output_type": "display_data"
    }
   ],
   "source": [
    "from scipy.stats import poisson\n",
    "x = [i for i in range(11)]\n",
    "y = [poisson_prob(e) for e in x]\n",
    "plt.plot(x,y)\n",
    "plt.title(\"Poisson Probability Distribution\")\n",
    "plt.xlabel(\"Number of Goals Scored\")\n",
    "plt.ylabel(\"Probability\")\n",
    "plt.plot()\n",
    "plt.show();"
   ]
  },
  {
   "cell_type": "raw",
   "metadata": {},
   "source": []
  }
 ],
 "metadata": {
  "kernelspec": {
   "display_name": "Python 3",
   "language": "python",
   "name": "python3"
  },
  "language_info": {
   "codemirror_mode": {
    "name": "ipython",
    "version": 3
   },
   "file_extension": ".py",
   "mimetype": "text/x-python",
   "name": "python",
   "nbconvert_exporter": "python",
   "pygments_lexer": "ipython3",
   "version": "3.7.5"
  }
 },
 "nbformat": 4,
 "nbformat_minor": 2
}
