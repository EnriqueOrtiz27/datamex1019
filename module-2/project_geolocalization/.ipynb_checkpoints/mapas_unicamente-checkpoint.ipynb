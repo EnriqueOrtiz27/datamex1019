{
 "cells": [
  {
   "cell_type": "code",
   "execution_count": 1,
   "metadata": {},
   "outputs": [],
   "source": [
    "#aquí pondré solo los mapas"
   ]
  },
  {
   "cell_type": "code",
   "execution_count": 2,
   "metadata": {},
   "outputs": [],
   "source": [
    "lat_clientes = [ 37.41605  ,  37.295005 ,  37.408802 ,  37.418531 ,  37.421972 ,\n",
    "        37.384949 ,  36.204824 ,  37.320052 ,  37.09024  ,  37.294465 ,\n",
    "        34.156802 ,  40.7311317,  43.76969  ,  37.394791 ,  60.170514 ,\n",
    "        47.643583 ,  37.330534 ,  37.09024  ,  42.027319 ,  33.689171 ,\n",
    "        51.5185614,  37.428373 ,  30.486188 ,  37.551283 ,  37.566535 ,\n",
    "        41.109534 ,  48.873402 ,  39.9525762,  32.9181382,  49.607295 ,\n",
    "        38.0062745,  37.405485 ,  37.403315 ,  37.398076 ,  45.496397 ,\n",
    "        51.9098205,  38.863995 ,  48.871976 ,  41.256052 ,  43.6269669,\n",
    "        42.36236  ,  37.386699 ,  38.859879 ,  40.7564318,  34.7453104,\n",
    "        38.859879 ,  40.7564318,  34.7453104,  41.8965162,  38.6272   ,\n",
    "        52.336117 ,  37.38593  ,  19.017656 ,  40.757716 ,  26.20382  ,\n",
    "        39.004994 ,  33.616228 ,  48.8566667, -23.5910421,  40.2252558,\n",
    "        40.3549075,  37.320052 ,  47.674933 ,  38.8712205,  36.0934631,\n",
    "        32.781078 ,  38.877143 ]"
   ]
  },
  {
   "cell_type": "code",
   "execution_count": 3,
   "metadata": {},
   "outputs": [],
   "source": [
    "long_clients = [-122.151801 , -121.930035 , -121.95377  , -122.025485 ,\n",
    "       -122.084143 , -121.96761  ,  138.252924 , -121.877636 ,\n",
    "        -95.712891 , -121.927696 , -118.324987 ,  -73.9919311,\n",
    "        -79.549577 , -121.955463 ,   24.827224 , -122.128585 ,\n",
    "       -122.028961 ,  -95.712891 ,  -88.079763 , -117.874221 ,\n",
    "         -0.1437991, -122.097604 ,  -97.671188 , -122.062263 ,\n",
    "        126.9779692,  -73.723999 ,    2.312848 ,  -75.1652518,\n",
    "        -96.7529161,    6.121511 , -122.5315665, -121.910305 ,\n",
    "       -122.145981 , -121.977333 ,  -73.5721802,    8.4200321,\n",
    "        -77.379474 ,    2.30069  ,  -82.616032 ,  -79.5589112,\n",
    "        -71.099692 , -121.998635 ,  -77.214756 ,  -73.9871847,\n",
    "        -92.2647169,  -77.214756 ,  -73.9871847,  -92.2647169,\n",
    "        -87.643622 ,  -90.1978   ,    4.887641 , -121.973422 ,\n",
    "         72.856178 ,  -73.972321 ,  -80.154212 ,  -94.602672 ,\n",
    "       -111.898091 ,    2.3509871,  -46.6872018,  -74.9035582,\n",
    "        -74.4779811, -121.877636 , -117.091093 ,  -77.217416 ,\n",
    "        -79.4372853,  -96.797111 ,  -77.003955 ]"
   ]
  },
  {
   "cell_type": "code",
   "execution_count": 4,
   "metadata": {},
   "outputs": [
    {
     "name": "stdout",
     "output_type": "stream",
     "text": [
      "67\n",
      "67\n"
     ]
    }
   ],
   "source": [
    "print(len(lat_clientes))\n",
    "print(len(long_clients))"
   ]
  },
  {
   "cell_type": "code",
   "execution_count": 5,
   "metadata": {},
   "outputs": [],
   "source": [
    "names = ['Facebook',\n",
    " 'eBay',\n",
    " 'Cisco',\n",
    " 'Yahoo!',\n",
    " 'Google',\n",
    " 'Intel',\n",
    " 'Nintendo',\n",
    " 'Adobe Systems',\n",
    " 'Sony',\n",
    " 'PayPal',\n",
    " 'The Walt Disney Company',\n",
    " 'AOL',\n",
    " 'Webkinz',\n",
    " 'Sun Microsystems',\n",
    " 'Nokia',\n",
    " 'Microsoft',\n",
    " 'Apple',\n",
    " 'NetApp',\n",
    " 'Motorola Solutions',\n",
    " 'Experian',\n",
    " 'BBC',\n",
    " 'Intuit',\n",
    " 'Dell',\n",
    " 'Logitech',\n",
    " 'LG',\n",
    " 'IBM',\n",
    " 'Alcatel-Lucent',\n",
    " 'Comcast',\n",
    " 'Texas Instruments',\n",
    " 'Spotify',\n",
    " 'Autodesk',\n",
    " 'LSI',\n",
    " 'VMware',\n",
    " 'Avaya',\n",
    " 'CGI Group',\n",
    " 'Bertelsmann',\n",
    " 'SRA International',\n",
    " 'Louis Vuitton',\n",
    " 'Xerox',\n",
    " 'Nortel Networks',\n",
    " 'MetaCarta',\n",
    " 'AMD',\n",
    " 'CSC',\n",
    " 'Thomson Reuters',\n",
    " 'Acxiom',\n",
    " 'CSC',\n",
    " 'Thomson Reuters',\n",
    " 'Acxiom',\n",
    " 'Groupon',\n",
    " 'Solutia',\n",
    " 'Gemalto',\n",
    " 'McAfee',\n",
    " 'Tata Consultancy Services',\n",
    " 'Bristol-Myers Squibb',\n",
    " 'Citrix Systems',\n",
    " 'Asurion',\n",
    " 'Liberty League International',\n",
    " 'Steria',\n",
    " 'CPM Braxis',\n",
    " 'EPAM Systems',\n",
    " 'Hexaware Technologies',\n",
    " 'Atmel',\n",
    " 'Itron',\n",
    " 'General Dynamics',\n",
    " 'LabCorp',\n",
    " 'Affiliated Computer Services',\n",
    " 'ManTech']"
   ]
  },
  {
   "cell_type": "code",
   "execution_count": null,
   "metadata": {},
   "outputs": [],
   "source": []
  },
  {
   "cell_type": "code",
   "execution_count": 6,
   "metadata": {},
   "outputs": [],
   "source": [
    "import folium\n",
    "from folium import plugins"
   ]
  },
  {
   "cell_type": "code",
   "execution_count": 7,
   "metadata": {},
   "outputs": [],
   "source": [
    "m = folium.Map(location=[39.8282,-98.5795], tiles='stamentoner', zoom_start=4)"
   ]
  },
  {
   "cell_type": "code",
   "execution_count": 8,
   "metadata": {},
   "outputs": [],
   "source": [
    "for i in range(len(lat_clientes)):\n",
    "    folium.CircleMarker(\n",
    "        location=[float(lat_clientes[i]), float(long_clients[i])],\n",
    "        radius = 9,\n",
    "        popup = names[i],\n",
    "        color = '#3186cc',\n",
    "        fill=True,\n",
    "        fill_color= '#3186cc'\n",
    "    ).add_to(m)"
   ]
  },
  {
   "cell_type": "code",
   "execution_count": 9,
   "metadata": {},
   "outputs": [],
   "source": [
    "list_lat2=[ 37.7983181,  42.281569 , -37.9924155,  40.3113504,  28.490886 ,\n",
    "        39.394564 ,  37.7896292,  38.989124 ,  37.78424  ,  41.857204 ,\n",
    "        52.126616 ,  40.7645772,  26.2480738,  27.4081935,  37.4513629,\n",
    "        42.6751888,   9.9396253,  28.1524632,  34.0909811,  40.7078343,\n",
    "        32.920073 ,  55.7794043,  48.8524775,  55.6770321,  27.3858   ,\n",
    "        38.9569894,  48.3400291, -23.5815208,  54.520135 ,  40.438423 ,\n",
    "        12.9164537,  45.5058782,  41.9174637,  33.5341548,  40.4244585,\n",
    "        52.3655578,  30.305809 ,  53.3328144,  42.3672873]"
   ]
  },
  {
   "cell_type": "code",
   "execution_count": 10,
   "metadata": {},
   "outputs": [],
   "source": [
    "list_long2 = [-122.4000032,  -83.813914 ,  -57.5538238,  -75.1135236,\n",
    "        -82.540512 , -119.8120795, -122.3998782,  -77.026676 ,\n",
    "       -122.274771 ,  -87.623923 ,    5.038078 ,  -73.9799007,\n",
    "        -80.135487 ,  -82.5294065, -122.1842112,  -71.1469003,\n",
    "         76.2594981,  -80.5883964, -118.325739 ,  -74.0136605,\n",
    "        -96.740444 ,   37.6899674,    2.3660117,   12.5751278,\n",
    "        -82.423    ,  -92.3227556,   10.9059804,  -46.6773686,\n",
    "         18.5416342,  -80.001933 ,   77.6101165,  -73.5673333,\n",
    "        -87.6664837, -117.7769669,   -3.6990948,    4.9345824,\n",
    "        -97.8177601,   -6.2493777,  -71.0814466]"
   ]
  },
  {
   "cell_type": "code",
   "execution_count": 11,
   "metadata": {},
   "outputs": [],
   "source": [
    "names2 = ['The Vertical Action Group', 'Compel Interaction', 'Fan',\n",
    "       'Nalts Consulting', 'Outspoken Media', 'MyChances', 'Macroaxis',\n",
    "       'Carfeine', 'BitRock', 'JumpForward', 'Navara',\n",
    "       'Unison Technologies', 'Reachoo', 'kinDragon', 'Transifex',\n",
    "       'AppZero', 'PebbleForge', 'OBE Pro', 'Setster',\n",
    "       'GameChanger Media', 'crush tweet', 'CineSoft', 'Antelink',\n",
    "       '1calendar', 'AlphaPoint Technology', \"Book'd\", 'makandra',\n",
    "       'DP7 Digital', 'JustProto', 'The Resumator', 'IndiaOnAPage',\n",
    "       'Nirvana', 'Eventric', 'ResuWe', 'Taxi Fares app', 'Lipperhey',\n",
    "       'LugIron Software', 'ftopia', 'Tiverias Apps']"
   ]
  },
  {
   "cell_type": "code",
   "execution_count": 12,
   "metadata": {},
   "outputs": [],
   "source": [
    "for i in range(len(list_lat2)):\n",
    "    folium.CircleMarker(\n",
    "        location=[float(list_lat2[i]), float(list_long2[i])],\n",
    "        radius = 9,\n",
    "        popup = names2[i],\n",
    "        color = '#cc1144',\n",
    "        fill=True,\n",
    "        fill_color= '#cc1144'\n",
    "    ).add_to(m)"
   ]
  },
  {
   "cell_type": "code",
   "execution_count": null,
   "metadata": {},
   "outputs": [],
   "source": []
  },
  {
   "cell_type": "code",
   "execution_count": 13,
   "metadata": {},
   "outputs": [
    {
     "data": {
      "text/plain": [
       "<folium.map.Marker at 0x10e240750>"
      ]
     },
     "execution_count": 13,
     "metadata": {},
     "output_type": "execute_result"
    }
   ],
   "source": [
    "folium.Marker([41.881832,-87.623177], popup='Coalition Space: East Loop Coworking',\\\n",
    "              icon=folium.Icon(color=\"green\", icon=\"info-sign\")).add_to(m)\n",
    "\n",
    "\n",
    "\n",
    "\n"
   ]
  },
  {
   "cell_type": "code",
   "execution_count": 14,
   "metadata": {},
   "outputs": [
    {
     "data": {
      "text/plain": [
       "<folium.map.Marker at 0x10e252150>"
      ]
     },
     "execution_count": 14,
     "metadata": {},
     "output_type": "execute_result"
    }
   ],
   "source": [
    "folium.Marker([40.440624,-79.99588], \\\n",
    "              popup=\"Industrious Pittsburgh PPG Place\",\\\n",
    "              icon=folium.Icon(color='green', icon='info-sign')).add_to(m)"
   ]
  },
  {
   "cell_type": "code",
   "execution_count": 15,
   "metadata": {},
   "outputs": [],
   "source": [
    "#display(m)"
   ]
  },
  {
   "cell_type": "code",
   "execution_count": 16,
   "metadata": {},
   "outputs": [
    {
     "data": {
      "text/plain": [
       "<folium.map.Marker at 0x10e252f50>"
      ]
     },
     "execution_count": 16,
     "metadata": {},
     "output_type": "execute_result"
    }
   ],
   "source": [
    "folium.Marker([39.952583, -75.165222], \\\n",
    "              popup=\"Industrious Philadelphia Avenue of the Arts\",\\\n",
    "              icon=folium.Icon(color='green', icon='info-sign')).add_to(m)"
   ]
  },
  {
   "cell_type": "code",
   "execution_count": 17,
   "metadata": {},
   "outputs": [],
   "source": [
    "m.save(\"final_map_v5.html\")"
   ]
  },
  {
   "cell_type": "code",
   "execution_count": null,
   "metadata": {},
   "outputs": [],
   "source": []
  }
 ],
 "metadata": {
  "kernelspec": {
   "display_name": "Python 3",
   "language": "python",
   "name": "python3"
  },
  "language_info": {
   "codemirror_mode": {
    "name": "ipython",
    "version": 3
   },
   "file_extension": ".py",
   "mimetype": "text/x-python",
   "name": "python",
   "nbconvert_exporter": "python",
   "pygments_lexer": "ipython3",
   "version": "3.7.5"
  }
 },
 "nbformat": 4,
 "nbformat_minor": 2
}
