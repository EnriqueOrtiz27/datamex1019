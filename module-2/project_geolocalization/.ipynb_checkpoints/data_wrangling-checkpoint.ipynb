{
 "cells": [
  {
   "cell_type": "code",
   "execution_count": 1,
   "metadata": {},
   "outputs": [],
   "source": [
    "import pandas as pd\n",
    "import numpy as np\n",
    "import folium\n",
    "from folium import plugins\n",
    "import pymongo\n",
    "from pandas.io.json import json_normalize"
   ]
  },
  {
   "cell_type": "code",
   "execution_count": 2,
   "metadata": {},
   "outputs": [
    {
     "data": {
      "text/plain": [
       "'\\nMi plan es algo así:\\n1. Describir a mi cliente imaginario\\n2. Inspeccionar la base de datos de Mongo\\n3. Filtrar la base y crear una nueva base de datos con base en mis requerimientos\\n4. Pasar esta nueva base a un data frame y ordenar mejor lo de las coordenadas y todo para tenerlo como\\n   puntos de geolocalización y después hacer searches de eso. \\n5. Llegar a las conclusiones con un mapa complementado con cierta investigación de Google. \\n\\n'"
      ]
     },
     "execution_count": 2,
     "metadata": {},
     "output_type": "execute_result"
    }
   ],
   "source": [
    "\"\"\"\n",
    "Mi plan es algo así:\n",
    "1. Describir a mi cliente imaginario\n",
    "2. Inspeccionar la base de datos de Mongo\n",
    "3. Filtrar la base y crear una nueva base de datos con base en mis requerimientos\n",
    "4. Pasar esta nueva base a un data frame y ordenar mejor lo de las coordenadas y todo para tenerlo como\n",
    "   puntos de geolocalización y después hacer searches de eso. \n",
    "5. Llegar a las conclusiones con un mapa complementado con cierta investigación de Google. \n",
    "\n",
    "\"\"\""
   ]
  },
  {
   "cell_type": "markdown",
   "metadata": {},
   "source": [
    "# Paso 1 : Describir a mi cliente imaginario. "
   ]
  },
  {
   "cell_type": "markdown",
   "metadata": {},
   "source": [
    "Mi cliente imaginario es una startup de consultoría con Big Data que quiere estar en un lugar donde haya muchas corporaciones grandes. La propuesta de mi cliente es venderle a grandes compañías (compañías con más de 5,000 empleados) su servicio de análisis de datos patentado por Kike. A mi cliente le gustaría estar cerca de muchas empresas grandes porque ese es su principal cliente y ha encontrado que las reuniones presenciales siempre son más potentes que las videollamadas. Además, es cierto que si estás cerca de muchas empresas grandes, se puede correr la voz de que eres bueno y así tendrás más oportunidades. "
   ]
  },
  {
   "cell_type": "code",
   "execution_count": 3,
   "metadata": {},
   "outputs": [],
   "source": [
    "#Me conecto a la base de datos. "
   ]
  },
  {
   "cell_type": "code",
   "execution_count": 4,
   "metadata": {},
   "outputs": [],
   "source": [
    "client = pymongo.MongoClient()"
   ]
  },
  {
   "cell_type": "code",
   "execution_count": 5,
   "metadata": {},
   "outputs": [],
   "source": [
    "db = client.companies_db"
   ]
  },
  {
   "cell_type": "code",
   "execution_count": 6,
   "metadata": {},
   "outputs": [],
   "source": [
    "data = db.data"
   ]
  },
  {
   "cell_type": "markdown",
   "metadata": {},
   "source": [
    "Vamos a filtrar la base de datos según lo que yo requiero y después la inspeccionaré.\n",
    "Los requerimientos de mi cliente son los siguientes:\n",
    "    \n",
    "1. Estar con una empresa con más de 5,000 empleados.\n",
    "2. La empresa debe tener mínimo 10 años de haberse fundado. Dado que la propuesta de valor de mi cliente\n",
    "depende de que haya una gran base de datos que analizar, se ha descubierto que conviene trabajar con empresas\n",
    "que tienen mucho tiempo en la industria. \n",
    "3. La empresa debe tener al menos una oficina. "
   ]
  },
  {
   "cell_type": "markdown",
   "metadata": {},
   "source": [
    "# Paso 2: Filtrar e inspeccionar la base de datos. Crear una nueva base de datos."
   ]
  },
  {
   "cell_type": "code",
   "execution_count": 7,
   "metadata": {},
   "outputs": [],
   "source": [
    "#Filtramos la base de datos. \n",
    "\n",
    "q1 = db.data.find()"
   ]
  },
  {
   "cell_type": "code",
   "execution_count": 8,
   "metadata": {},
   "outputs": [
    {
     "name": "stdout",
     "output_type": "stream",
     "text": [
      "{'public_relations', 'nanotech', 'web', 'hospitality', 'automotive', 'mobile', 'social', 'photo_video', 'music', None, 'cleantech', 'finance', 'enterprise', 'other', 'games_video', 'security', 'legal', 'local', 'news', 'nonprofit', 'ecommerce', 'education', 'sports', 'health', 'semiconductor', 'medical', 'network_hosting', 'transportation', 'search', 'fashion', 'hardware', 'software', 'consulting', 'travel', 'analytics', 'design', 'biotech', 'government', 'manufacturing', 'real_estate', 'messaging', 'advertising'}\n"
     ]
    }
   ],
   "source": [
    "df = pd.DataFrame(q1)\n",
    "print(set(df.category_code.unique()))"
   ]
  },
  {
   "cell_type": "code",
   "execution_count": 9,
   "metadata": {},
   "outputs": [],
   "source": [
    "big_companies = db.data.find({'$and': [{'number_of_employees': {'$gte': 5000}},\\\n",
    "                                       {'offices':{'$not':{'$size':0}}},\\\n",
    "                                      {'founded_year': {'$lte': 2010}}]},\n",
    "                            {'name':1,'category_code':1,'offices':1, 'ipo.valuation_amount':1, '_id':0, 'deadpooled_year':1})"
   ]
  },
  {
   "cell_type": "code",
   "execution_count": 10,
   "metadata": {},
   "outputs": [
    {
     "data": {
      "text/html": [
       "<div>\n",
       "<style scoped>\n",
       "    .dataframe tbody tr th:only-of-type {\n",
       "        vertical-align: middle;\n",
       "    }\n",
       "\n",
       "    .dataframe tbody tr th {\n",
       "        vertical-align: top;\n",
       "    }\n",
       "\n",
       "    .dataframe thead th {\n",
       "        text-align: right;\n",
       "    }\n",
       "</style>\n",
       "<table border=\"1\" class=\"dataframe\">\n",
       "  <thead>\n",
       "    <tr style=\"text-align: right;\">\n",
       "      <th></th>\n",
       "      <th>name</th>\n",
       "      <th>category_code</th>\n",
       "      <th>deadpooled_year</th>\n",
       "      <th>offices</th>\n",
       "      <th>ipo</th>\n",
       "    </tr>\n",
       "  </thead>\n",
       "  <tbody>\n",
       "    <tr>\n",
       "      <th>0</th>\n",
       "      <td>Facebook</td>\n",
       "      <td>social</td>\n",
       "      <td>None</td>\n",
       "      <td>[{'description': 'Headquarters', 'address1': '...</td>\n",
       "      <td>{'valuation_amount': 104000000000}</td>\n",
       "    </tr>\n",
       "    <tr>\n",
       "      <th>1</th>\n",
       "      <td>eBay</td>\n",
       "      <td>web</td>\n",
       "      <td>None</td>\n",
       "      <td>[{'description': 'Headquarters', 'address1': '...</td>\n",
       "      <td>{'valuation_amount': None}</td>\n",
       "    </tr>\n",
       "    <tr>\n",
       "      <th>2</th>\n",
       "      <td>Cisco</td>\n",
       "      <td>network_hosting</td>\n",
       "      <td>None</td>\n",
       "      <td>[{'description': 'Headquarters', 'address1': '...</td>\n",
       "      <td>{'valuation_amount': None}</td>\n",
       "    </tr>\n",
       "    <tr>\n",
       "      <th>3</th>\n",
       "      <td>Yahoo!</td>\n",
       "      <td>web</td>\n",
       "      <td>None</td>\n",
       "      <td>[{'description': None, 'address1': '701 First ...</td>\n",
       "      <td>{'valuation_amount': None}</td>\n",
       "    </tr>\n",
       "  </tbody>\n",
       "</table>\n",
       "</div>"
      ],
      "text/plain": [
       "       name    category_code deadpooled_year  \\\n",
       "0  Facebook           social            None   \n",
       "1      eBay              web            None   \n",
       "2     Cisco  network_hosting            None   \n",
       "3    Yahoo!              web            None   \n",
       "\n",
       "                                             offices  \\\n",
       "0  [{'description': 'Headquarters', 'address1': '...   \n",
       "1  [{'description': 'Headquarters', 'address1': '...   \n",
       "2  [{'description': 'Headquarters', 'address1': '...   \n",
       "3  [{'description': None, 'address1': '701 First ...   \n",
       "\n",
       "                                  ipo  \n",
       "0  {'valuation_amount': 104000000000}  \n",
       "1          {'valuation_amount': None}  \n",
       "2          {'valuation_amount': None}  \n",
       "3          {'valuation_amount': None}  "
      ]
     },
     "execution_count": 10,
     "metadata": {},
     "output_type": "execute_result"
    }
   ],
   "source": [
    "df = pd.DataFrame(big_companies)\n",
    "df.head(4)"
   ]
  },
  {
   "cell_type": "code",
   "execution_count": 11,
   "metadata": {},
   "outputs": [
    {
     "data": {
      "text/plain": [
       "(103, 5)"
      ]
     },
     "execution_count": 11,
     "metadata": {},
     "output_type": "execute_result"
    }
   ],
   "source": [
    "df.shape #interesante, tenemos 103 empresas que cumplen con estos requisitos. ¿Dónde estarán?"
   ]
  },
  {
   "cell_type": "code",
   "execution_count": 12,
   "metadata": {},
   "outputs": [
    {
     "data": {
      "text/plain": [
       "name               object\n",
       "category_code      object\n",
       "deadpooled_year    object\n",
       "offices            object\n",
       "ipo                object\n",
       "dtype: object"
      ]
     },
     "execution_count": 12,
     "metadata": {},
     "output_type": "execute_result"
    }
   ],
   "source": [
    "df.dtypes #puros objetos, un par de columnas son diccionarios. "
   ]
  },
  {
   "cell_type": "code",
   "execution_count": 13,
   "metadata": {},
   "outputs": [
    {
     "data": {
      "text/plain": [
       "name                 0\n",
       "category_code        7\n",
       "deadpooled_year    103\n",
       "offices              0\n",
       "ipo                 56\n",
       "dtype: int64"
      ]
     },
     "execution_count": 13,
     "metadata": {},
     "output_type": "execute_result"
    }
   ],
   "source": [
    "df.isnull().sum() #esto nos deja ver que ninguna ha quebrado, por lo que podemos ignorar esa columna. \n"
   ]
  },
  {
   "cell_type": "code",
   "execution_count": 14,
   "metadata": {},
   "outputs": [],
   "source": [
    "df = df.drop(columns=['deadpooled_year', 'ipo']) #la de IPO tampoco nos sirve tanto. "
   ]
  },
  {
   "cell_type": "code",
   "execution_count": 15,
   "metadata": {},
   "outputs": [],
   "source": [
    "#es útil la función de Yona que nos ayuda a encontrar las direcciones de las empresas. "
   ]
  },
  {
   "cell_type": "code",
   "execution_count": 16,
   "metadata": {},
   "outputs": [],
   "source": [
    "def get_first(data):\n",
    "    res=[]\n",
    "    ofi=[]\n",
    "    \n",
    "    data=data['offices']\n",
    "    for e in data:\n",
    "        principal=None   # solo las tienen geodata\n",
    "        if e[0]['latitude'] and e[0]['longitude']:\n",
    "            principal={'type':'Point',\n",
    "                       'coordinates':[\n",
    "                           e[0]['longitude'],\n",
    "                           e[0]['latitude']\n",
    "                       ]}\n",
    "            \n",
    "        ofi.append(principal)\n",
    "        \n",
    "        res.append({\n",
    "            'total_offices':len(e),\n",
    "            'lat':e[0]['latitude'],\n",
    "            'lng':e[0]['longitude'],\n",
    "            'oficina_principal':principal\n",
    "        })\n",
    "    \n",
    "    return res, ofi"
   ]
  },
  {
   "cell_type": "code",
   "execution_count": 17,
   "metadata": {},
   "outputs": [],
   "source": [
    "#Aplico la función creando un nuevo data frame. "
   ]
  },
  {
   "cell_type": "code",
   "execution_count": 18,
   "metadata": {},
   "outputs": [
    {
     "data": {
      "text/html": [
       "<div>\n",
       "<style scoped>\n",
       "    .dataframe tbody tr th:only-of-type {\n",
       "        vertical-align: middle;\n",
       "    }\n",
       "\n",
       "    .dataframe tbody tr th {\n",
       "        vertical-align: top;\n",
       "    }\n",
       "\n",
       "    .dataframe thead th {\n",
       "        text-align: right;\n",
       "    }\n",
       "</style>\n",
       "<table border=\"1\" class=\"dataframe\">\n",
       "  <thead>\n",
       "    <tr style=\"text-align: right;\">\n",
       "      <th></th>\n",
       "      <th>total_offices</th>\n",
       "      <th>lat</th>\n",
       "      <th>lng</th>\n",
       "      <th>oficina_principal.type</th>\n",
       "      <th>oficina_principal.coordinates</th>\n",
       "      <th>oficina_principal</th>\n",
       "    </tr>\n",
       "  </thead>\n",
       "  <tbody>\n",
       "    <tr>\n",
       "      <th>0</th>\n",
       "      <td>3</td>\n",
       "      <td>37.416050</td>\n",
       "      <td>-122.151801</td>\n",
       "      <td>Point</td>\n",
       "      <td>[-122.151801, 37.41605]</td>\n",
       "      <td>{'type': 'Point', 'coordinates': [-122.151801,...</td>\n",
       "    </tr>\n",
       "    <tr>\n",
       "      <th>1</th>\n",
       "      <td>1</td>\n",
       "      <td>37.295005</td>\n",
       "      <td>-121.930035</td>\n",
       "      <td>Point</td>\n",
       "      <td>[-121.930035, 37.295005]</td>\n",
       "      <td>{'type': 'Point', 'coordinates': [-121.930035,...</td>\n",
       "    </tr>\n",
       "    <tr>\n",
       "      <th>2</th>\n",
       "      <td>1</td>\n",
       "      <td>37.408802</td>\n",
       "      <td>-121.953770</td>\n",
       "      <td>Point</td>\n",
       "      <td>[-121.95377, 37.408802]</td>\n",
       "      <td>{'type': 'Point', 'coordinates': [-121.95377, ...</td>\n",
       "    </tr>\n",
       "    <tr>\n",
       "      <th>3</th>\n",
       "      <td>1</td>\n",
       "      <td>37.418531</td>\n",
       "      <td>-122.025485</td>\n",
       "      <td>Point</td>\n",
       "      <td>[-122.025485, 37.418531]</td>\n",
       "      <td>{'type': 'Point', 'coordinates': [-122.025485,...</td>\n",
       "    </tr>\n",
       "    <tr>\n",
       "      <th>4</th>\n",
       "      <td>67</td>\n",
       "      <td>37.421972</td>\n",
       "      <td>-122.084143</td>\n",
       "      <td>Point</td>\n",
       "      <td>[-122.084143, 37.421972]</td>\n",
       "      <td>{'type': 'Point', 'coordinates': [-122.084143,...</td>\n",
       "    </tr>\n",
       "  </tbody>\n",
       "</table>\n",
       "</div>"
      ],
      "text/plain": [
       "   total_offices        lat         lng oficina_principal.type  \\\n",
       "0              3  37.416050 -122.151801                  Point   \n",
       "1              1  37.295005 -121.930035                  Point   \n",
       "2              1  37.408802 -121.953770                  Point   \n",
       "3              1  37.418531 -122.025485                  Point   \n",
       "4             67  37.421972 -122.084143                  Point   \n",
       "\n",
       "  oficina_principal.coordinates  \\\n",
       "0       [-122.151801, 37.41605]   \n",
       "1      [-121.930035, 37.295005]   \n",
       "2       [-121.95377, 37.408802]   \n",
       "3      [-122.025485, 37.418531]   \n",
       "4      [-122.084143, 37.421972]   \n",
       "\n",
       "                                   oficina_principal  \n",
       "0  {'type': 'Point', 'coordinates': [-122.151801,...  \n",
       "1  {'type': 'Point', 'coordinates': [-121.930035,...  \n",
       "2  {'type': 'Point', 'coordinates': [-121.95377, ...  \n",
       "3  {'type': 'Point', 'coordinates': [-122.025485,...  \n",
       "4  {'type': 'Point', 'coordinates': [-122.084143,...  "
      ]
     },
     "execution_count": 18,
     "metadata": {},
     "output_type": "execute_result"
    }
   ],
   "source": [
    "first_office=json_normalize(get_first(df)[0])\n",
    "first_office['oficina_principal']=get_first(df)[1]\n",
    "first_office.head()"
   ]
  },
  {
   "cell_type": "code",
   "execution_count": 19,
   "metadata": {},
   "outputs": [],
   "source": [
    "#Pongo esta información limpia junto con la original en un nuevo dataframe. \n",
    "#En realidad para mí es un poco indiferente el número de oficinas, por lo que ignoro eso. \n",
    "#A pesar de que a mi cliente le importa que sí tengan al menos una, da igual cuántas tengan porque su servicio\n",
    "#es en la nube. "
   ]
  },
  {
   "cell_type": "code",
   "execution_count": 20,
   "metadata": {},
   "outputs": [],
   "source": [
    "df_clean=pd.concat([df, first_office], axis=1)[['name', 'category_code', 'lat', 'lng', 'oficina_principal']]"
   ]
  },
  {
   "cell_type": "code",
   "execution_count": 21,
   "metadata": {},
   "outputs": [
    {
     "data": {
      "text/html": [
       "<div>\n",
       "<style scoped>\n",
       "    .dataframe tbody tr th:only-of-type {\n",
       "        vertical-align: middle;\n",
       "    }\n",
       "\n",
       "    .dataframe tbody tr th {\n",
       "        vertical-align: top;\n",
       "    }\n",
       "\n",
       "    .dataframe thead th {\n",
       "        text-align: right;\n",
       "    }\n",
       "</style>\n",
       "<table border=\"1\" class=\"dataframe\">\n",
       "  <thead>\n",
       "    <tr style=\"text-align: right;\">\n",
       "      <th></th>\n",
       "      <th>name</th>\n",
       "      <th>category_code</th>\n",
       "      <th>lat</th>\n",
       "      <th>lng</th>\n",
       "      <th>oficina_principal</th>\n",
       "    </tr>\n",
       "  </thead>\n",
       "  <tbody>\n",
       "    <tr>\n",
       "      <th>0</th>\n",
       "      <td>Facebook</td>\n",
       "      <td>social</td>\n",
       "      <td>37.416050</td>\n",
       "      <td>-122.151801</td>\n",
       "      <td>{'type': 'Point', 'coordinates': [-122.151801,...</td>\n",
       "    </tr>\n",
       "    <tr>\n",
       "      <th>1</th>\n",
       "      <td>eBay</td>\n",
       "      <td>web</td>\n",
       "      <td>37.295005</td>\n",
       "      <td>-121.930035</td>\n",
       "      <td>{'type': 'Point', 'coordinates': [-121.930035,...</td>\n",
       "    </tr>\n",
       "    <tr>\n",
       "      <th>2</th>\n",
       "      <td>Cisco</td>\n",
       "      <td>network_hosting</td>\n",
       "      <td>37.408802</td>\n",
       "      <td>-121.953770</td>\n",
       "      <td>{'type': 'Point', 'coordinates': [-121.95377, ...</td>\n",
       "    </tr>\n",
       "    <tr>\n",
       "      <th>3</th>\n",
       "      <td>Yahoo!</td>\n",
       "      <td>web</td>\n",
       "      <td>37.418531</td>\n",
       "      <td>-122.025485</td>\n",
       "      <td>{'type': 'Point', 'coordinates': [-122.025485,...</td>\n",
       "    </tr>\n",
       "    <tr>\n",
       "      <th>4</th>\n",
       "      <td>Google</td>\n",
       "      <td>search</td>\n",
       "      <td>37.421972</td>\n",
       "      <td>-122.084143</td>\n",
       "      <td>{'type': 'Point', 'coordinates': [-122.084143,...</td>\n",
       "    </tr>\n",
       "  </tbody>\n",
       "</table>\n",
       "</div>"
      ],
      "text/plain": [
       "       name    category_code        lat         lng  \\\n",
       "0  Facebook           social  37.416050 -122.151801   \n",
       "1      eBay              web  37.295005 -121.930035   \n",
       "2     Cisco  network_hosting  37.408802 -121.953770   \n",
       "3    Yahoo!              web  37.418531 -122.025485   \n",
       "4    Google           search  37.421972 -122.084143   \n",
       "\n",
       "                                   oficina_principal  \n",
       "0  {'type': 'Point', 'coordinates': [-122.151801,...  \n",
       "1  {'type': 'Point', 'coordinates': [-121.930035,...  \n",
       "2  {'type': 'Point', 'coordinates': [-121.95377, ...  \n",
       "3  {'type': 'Point', 'coordinates': [-122.025485,...  \n",
       "4  {'type': 'Point', 'coordinates': [-122.084143,...  "
      ]
     },
     "execution_count": 21,
     "metadata": {},
     "output_type": "execute_result"
    }
   ],
   "source": [
    "df_clean.head()"
   ]
  },
  {
   "cell_type": "markdown",
   "metadata": {},
   "source": [
    "# Paso 3. Preparar la geolocalización. Esto incluye:\n",
    "    -Crear un nuevo collection en mi Compass con base en los requerimientos seleccionados.\n",
    "    -Crear un índice en donde añada los valores de 'oficina_principal' como geopuntos.\n",
    "    "
   ]
  },
  {
   "cell_type": "code",
   "execution_count": 22,
   "metadata": {},
   "outputs": [
    {
     "data": {
      "text/plain": [
       "hardware            15\n",
       "software            14\n",
       "other               12\n",
       "consulting           9\n",
       "web                  8\n",
       "public_relations     6\n",
       "enterprise           5\n",
       "biotech              4\n",
       "mobile               4\n",
       "games_video          3\n",
       "semiconductor        3\n",
       "search               2\n",
       "security             2\n",
       "automotive           1\n",
       "fashion              1\n",
       "social               1\n",
       "music                1\n",
       "cleantech            1\n",
       "finance              1\n",
       "network_hosting      1\n",
       "transportation       1\n",
       "news                 1\n",
       "Name: category_code, dtype: int64"
      ]
     },
     "execution_count": 22,
     "metadata": {},
     "output_type": "execute_result"
    }
   ],
   "source": [
    "df_clean.category_code.value_counts() #me dio curiosidad qué tipo de empresas son "
   ]
  },
  {
   "cell_type": "code",
   "execution_count": 23,
   "metadata": {},
   "outputs": [],
   "source": [
    "#db.collection_friday.insert_many(df_clean.to_dict('records'))\n",
    "#corrí este código una sola vez y luego lo comenté: en mi CompassDB ya está la nueva colección."
   ]
  },
  {
   "cell_type": "code",
   "execution_count": 24,
   "metadata": {},
   "outputs": [],
   "source": [
    "#ahora hacemos las coordenadas como geopoint. Esto se puede hacer desde CompassDB, pero este es el código."
   ]
  },
  {
   "cell_type": "code",
   "execution_count": 25,
   "metadata": {},
   "outputs": [
    {
     "data": {
      "text/plain": [
       "'oficina_principal_2dsphere'"
      ]
     },
     "execution_count": 25,
     "metadata": {},
     "output_type": "execute_result"
    }
   ],
   "source": [
    "db.collection_friday.create_index([('oficina_principal', '2dsphere')])\n",
    "#también corrí ese código una sola vez."
   ]
  },
  {
   "cell_type": "markdown",
   "metadata": {},
   "source": [
    "# Paso 4. Graficar como Markers las 103 empresas seleccionadas. \n",
    "\n",
    "    -Preparar un mapa con Folium\n",
    "\n",
    "    -Crear una lista con las latitudes\n",
    "\n",
    "    -Crear una lista con las longitudes\n",
    "\n",
    "    -Hacer un bucle en donde las vaya añadiendo\n",
    "\n",
    "    -Checar que todo vaya bien."
   ]
  },
  {
   "cell_type": "code",
   "execution_count": 50,
   "metadata": {},
   "outputs": [],
   "source": [
    "m = folium.Map(location=[39.8282,-98.5795], tiles='stamentoner', zoom_start=4)"
   ]
  },
  {
   "cell_type": "code",
   "execution_count": 51,
   "metadata": {},
   "outputs": [],
   "source": [
    "df_clean = df_clean.dropna(axis=0)"
   ]
  },
  {
   "cell_type": "code",
   "execution_count": 52,
   "metadata": {},
   "outputs": [],
   "source": [
    "list_lat = df_clean.lat.values\n",
    "list_long = df_clean.lng.values"
   ]
  },
  {
   "cell_type": "code",
   "execution_count": 77,
   "metadata": {},
   "outputs": [
    {
     "data": {
      "text/plain": [
       "array([-122.151801 , -121.930035 , -121.95377  , -122.025485 ,\n",
       "       -122.084143 , -121.96761  ,  138.252924 , -121.877636 ,\n",
       "        -95.712891 , -121.927696 , -118.324987 ,  -73.9919311,\n",
       "        -79.549577 , -121.955463 ,   24.827224 , -122.128585 ,\n",
       "       -122.028961 ,  -95.712891 ,  -88.079763 , -117.874221 ,\n",
       "         -0.1437991, -122.097604 ,  -97.671188 , -122.062263 ,\n",
       "        126.9779692,  -73.723999 ,    2.312848 ,  -75.1652518,\n",
       "        -96.7529161,    6.121511 , -122.5315665, -121.910305 ,\n",
       "       -122.145981 , -121.977333 ,  -73.5721802,    8.4200321,\n",
       "        -77.379474 ,    2.30069  ,  -82.616032 ,  -79.5589112,\n",
       "        -71.099692 , -121.998635 ,  -77.214756 ,  -73.9871847,\n",
       "        -92.2647169,  -77.214756 ,  -73.9871847,  -92.2647169,\n",
       "        -87.643622 ,  -90.1978   ,    4.887641 , -121.973422 ,\n",
       "         72.856178 ,  -73.972321 ,  -80.154212 ,  -94.602672 ,\n",
       "       -111.898091 ,    2.3509871,  -46.6872018,  -74.9035582,\n",
       "        -74.4779811, -121.877636 , -117.091093 ,  -77.217416 ,\n",
       "        -79.4372853,  -96.797111 ,  -77.003955 ])"
      ]
     },
     "execution_count": 77,
     "metadata": {},
     "output_type": "execute_result"
    }
   ],
   "source": [
    "list_long"
   ]
  },
  {
   "cell_type": "code",
   "execution_count": 53,
   "metadata": {},
   "outputs": [],
   "source": [
    "#list_lat no hay empty values, pero el código de abajo ya no corrió cuando añadí nuevas cosas"
   ]
  },
  {
   "cell_type": "code",
   "execution_count": 54,
   "metadata": {},
   "outputs": [
    {
     "data": {
      "text/plain": [
       "index                0\n",
       "name                 0\n",
       "category_code        0\n",
       "lat                  0\n",
       "lng                  0\n",
       "oficina_principal    0\n",
       "dtype: int64"
      ]
     },
     "execution_count": 54,
     "metadata": {},
     "output_type": "execute_result"
    }
   ],
   "source": [
    "df_clean.isnull().sum()"
   ]
  },
  {
   "cell_type": "code",
   "execution_count": 55,
   "metadata": {},
   "outputs": [],
   "source": [
    "df_clean.reset_index(inplace=True)"
   ]
  },
  {
   "cell_type": "code",
   "execution_count": 56,
   "metadata": {},
   "outputs": [],
   "source": [
    "names = df_clean.name.astype(str)"
   ]
  },
  {
   "cell_type": "code",
   "execution_count": 80,
   "metadata": {},
   "outputs": [],
   "source": [
    "#list(names)"
   ]
  },
  {
   "cell_type": "code",
   "execution_count": 57,
   "metadata": {},
   "outputs": [],
   "source": [
    "for i in range(len(list_lat)):\n",
    "    folium.CircleMarker(\n",
    "        location=[float(list_lat[i]), float(list_long[i])],\n",
    "        radius = 12,\n",
    "        popup = names[i],\n",
    "        color = '#3186cc',\n",
    "        fill=True,\n",
    "        fill_color= '#3186cc'\n",
    "    ).add_to(m)"
   ]
  },
  {
   "cell_type": "code",
   "execution_count": 34,
   "metadata": {},
   "outputs": [],
   "source": [
    "#display(m) <<<--- correr este código! yo lo comenté porque se traba un poco mi pantalla con el mapa. \n",
    "#le pueden picar a cada uno de los circulitos y les dice el nombre de la empresa :) "
   ]
  },
  {
   "cell_type": "code",
   "execution_count": 59,
   "metadata": {},
   "outputs": [],
   "source": [
    "#m.save(\"potential_clients.html\")\n",
    "#display(m)"
   ]
  },
  {
   "cell_type": "markdown",
   "metadata": {},
   "source": [
    "# Conclusiones Preliminares:\n",
    "\n",
    "Las empresas que mi cliente busca se encuentran repartidas a lo largo de todo el país, \n",
    "con una fuerte concentración en California y cerca de Nueva York. \n",
    "\n",
    "El siguiente paso es el siguiente:\n",
    "\n",
    "    -Vamos a buscar a startups que sean más o menos parecidas a mi cliente\n",
    "    (vamos a imaginar que eso significa: category_code=='consulting' y fundada después del 2010)\n",
    "    \n",
    "    -Vamos a buscar en dónde están localizadas estas startups\n",
    "    \n",
    "    -Veremos si eso nos da insight respecto a dónde le conviene estar a mi cliente. (por ejemplo,\n",
    "    si una gran cantidad de empresas grandes no tiene startups de consultoría cerca, a mi cliente\n",
    "    le conviene estar ahí.)\n",
    "    \n",
    "    "
   ]
  },
  {
   "cell_type": "markdown",
   "metadata": {},
   "source": [
    "# Paso 5: Búsqueda de posibles competidores. \n",
    "\n",
    "    -Más o menos repetir los mismos pasos, pero ahora para crear una base de datos con posibles \n",
    "    competidores. Esto lo hice en otro jupyter notebook llamado \"competitors\". Al final guardé el mapa \n",
    "    como html, lo mismo hice con el de aquí, y a partir de la comparación de ambos mapas es posible descubrir cosas interesantes. "
   ]
  },
  {
   "cell_type": "code",
   "execution_count": 36,
   "metadata": {},
   "outputs": [],
   "source": [
    "#ya encontré los valores que me interesan de los competidores: los añadiré en el mismo mapa pero con otro color"
   ]
  },
  {
   "cell_type": "code",
   "execution_count": 60,
   "metadata": {},
   "outputs": [],
   "source": [
    "list_lat2=[ 37.7983181,  42.281569 , -37.9924155,  40.3113504,  28.490886 ,\n",
    "        39.394564 ,  37.7896292,  38.989124 ,  37.78424  ,  41.857204 ,\n",
    "        52.126616 ,  40.7645772,  26.2480738,  27.4081935,  37.4513629,\n",
    "        42.6751888,   9.9396253,  28.1524632,  34.0909811,  40.7078343,\n",
    "        32.920073 ,  55.7794043,  48.8524775,  55.6770321,  27.3858   ,\n",
    "        38.9569894,  48.3400291, -23.5815208,  54.520135 ,  40.438423 ,\n",
    "        12.9164537,  45.5058782,  41.9174637,  33.5341548,  40.4244585,\n",
    "        52.3655578,  30.305809 ,  53.3328144,  42.3672873]"
   ]
  },
  {
   "cell_type": "code",
   "execution_count": 61,
   "metadata": {},
   "outputs": [],
   "source": [
    "#list_lat2"
   ]
  },
  {
   "cell_type": "code",
   "execution_count": 62,
   "metadata": {},
   "outputs": [],
   "source": [
    "list_long2 = [-122.4000032,  -83.813914 ,  -57.5538238,  -75.1135236,\n",
    "        -82.540512 , -119.8120795, -122.3998782,  -77.026676 ,\n",
    "       -122.274771 ,  -87.623923 ,    5.038078 ,  -73.9799007,\n",
    "        -80.135487 ,  -82.5294065, -122.1842112,  -71.1469003,\n",
    "         76.2594981,  -80.5883964, -118.325739 ,  -74.0136605,\n",
    "        -96.740444 ,   37.6899674,    2.3660117,   12.5751278,\n",
    "        -82.423    ,  -92.3227556,   10.9059804,  -46.6773686,\n",
    "         18.5416342,  -80.001933 ,   77.6101165,  -73.5673333,\n",
    "        -87.6664837, -117.7769669,   -3.6990948,    4.9345824,\n",
    "        -97.8177601,   -6.2493777,  -71.0814466]"
   ]
  },
  {
   "cell_type": "code",
   "execution_count": 63,
   "metadata": {},
   "outputs": [],
   "source": [
    "names2 = ['The Vertical Action Group', 'Compel Interaction', 'Fan',\n",
    "       'Nalts Consulting', 'Outspoken Media', 'MyChances', 'Macroaxis',\n",
    "       'Carfeine', 'BitRock', 'JumpForward', 'Navara',\n",
    "       'Unison Technologies', 'Reachoo', 'kinDragon', 'Transifex',\n",
    "       'AppZero', 'PebbleForge', 'OBE Pro', 'Setster',\n",
    "       'GameChanger Media', 'crush tweet', 'CineSoft', 'Antelink',\n",
    "       '1calendar', 'AlphaPoint Technology', \"Book'd\", 'makandra',\n",
    "       'DP7 Digital', 'JustProto', 'The Resumator', 'IndiaOnAPage',\n",
    "       'Nirvana', 'Eventric', 'ResuWe', 'Taxi Fares app', 'Lipperhey',\n",
    "       'LugIron Software', 'ftopia', 'Tiverias Apps']"
   ]
  },
  {
   "cell_type": "code",
   "execution_count": 74,
   "metadata": {},
   "outputs": [],
   "source": [
    "for i in range(len(list_lat2)):\n",
    "    folium.CircleMarker(\n",
    "        location=[float(list_lat2[i]), float(list_long2[i])],\n",
    "        radius = 12,\n",
    "        popup = names2[i],\n",
    "        color = '#cc1144',\n",
    "        fill=True,\n",
    "        fill_color= '#cc1144'\n",
    "    ).add_to(m)"
   ]
  },
  {
   "cell_type": "code",
   "execution_count": 75,
   "metadata": {},
   "outputs": [
    {
     "ename": "AssertionError",
     "evalue": "You cannot render this Element if it is not in a Figure.",
     "output_type": "error",
     "traceback": [
      "\u001b[0;31m---------------------------------------------------------------------------\u001b[0m",
      "\u001b[0;31mAssertionError\u001b[0m                            Traceback (most recent call last)",
      "\u001b[0;32m/usr/local/Cellar/ipython/7.8.0/libexec/lib/python3.7/site-packages/IPython/core/formatters.py\u001b[0m in \u001b[0;36m__call__\u001b[0;34m(self, obj)\u001b[0m\n\u001b[1;32m    343\u001b[0m             \u001b[0mmethod\u001b[0m \u001b[0;34m=\u001b[0m \u001b[0mget_real_method\u001b[0m\u001b[0;34m(\u001b[0m\u001b[0mobj\u001b[0m\u001b[0;34m,\u001b[0m \u001b[0mself\u001b[0m\u001b[0;34m.\u001b[0m\u001b[0mprint_method\u001b[0m\u001b[0;34m)\u001b[0m\u001b[0;34m\u001b[0m\u001b[0;34m\u001b[0m\u001b[0m\n\u001b[1;32m    344\u001b[0m             \u001b[0;32mif\u001b[0m \u001b[0mmethod\u001b[0m \u001b[0;32mis\u001b[0m \u001b[0;32mnot\u001b[0m \u001b[0;32mNone\u001b[0m\u001b[0;34m:\u001b[0m\u001b[0;34m\u001b[0m\u001b[0;34m\u001b[0m\u001b[0m\n\u001b[0;32m--> 345\u001b[0;31m                 \u001b[0;32mreturn\u001b[0m \u001b[0mmethod\u001b[0m\u001b[0;34m(\u001b[0m\u001b[0;34m)\u001b[0m\u001b[0;34m\u001b[0m\u001b[0;34m\u001b[0m\u001b[0m\n\u001b[0m\u001b[1;32m    346\u001b[0m             \u001b[0;32mreturn\u001b[0m \u001b[0;32mNone\u001b[0m\u001b[0;34m\u001b[0m\u001b[0;34m\u001b[0m\u001b[0m\n\u001b[1;32m    347\u001b[0m         \u001b[0;32melse\u001b[0m\u001b[0;34m:\u001b[0m\u001b[0;34m\u001b[0m\u001b[0;34m\u001b[0m\u001b[0m\n",
      "\u001b[0;32m/usr/local/lib/python3.7/site-packages/folium/folium.py\u001b[0m in \u001b[0;36m_repr_html_\u001b[0;34m(self, **kwargs)\u001b[0m\n\u001b[1;32m    291\u001b[0m             \u001b[0mself\u001b[0m\u001b[0;34m.\u001b[0m\u001b[0m_parent\u001b[0m \u001b[0;34m=\u001b[0m \u001b[0;32mNone\u001b[0m\u001b[0;34m\u001b[0m\u001b[0;34m\u001b[0m\u001b[0m\n\u001b[1;32m    292\u001b[0m         \u001b[0;32melse\u001b[0m\u001b[0;34m:\u001b[0m\u001b[0;34m\u001b[0m\u001b[0;34m\u001b[0m\u001b[0m\n\u001b[0;32m--> 293\u001b[0;31m             \u001b[0mout\u001b[0m \u001b[0;34m=\u001b[0m \u001b[0mself\u001b[0m\u001b[0;34m.\u001b[0m\u001b[0m_parent\u001b[0m\u001b[0;34m.\u001b[0m\u001b[0m_repr_html_\u001b[0m\u001b[0;34m(\u001b[0m\u001b[0;34m**\u001b[0m\u001b[0mkwargs\u001b[0m\u001b[0;34m)\u001b[0m\u001b[0;34m\u001b[0m\u001b[0;34m\u001b[0m\u001b[0m\n\u001b[0m\u001b[1;32m    294\u001b[0m         \u001b[0;32mreturn\u001b[0m \u001b[0mout\u001b[0m\u001b[0;34m\u001b[0m\u001b[0;34m\u001b[0m\u001b[0m\n\u001b[1;32m    295\u001b[0m \u001b[0;34m\u001b[0m\u001b[0m\n",
      "\u001b[0;32m/usr/local/lib/python3.7/site-packages/branca/element.py\u001b[0m in \u001b[0;36m_repr_html_\u001b[0;34m(self, **kwargs)\u001b[0m\n\u001b[1;32m    326\u001b[0m \u001b[0;34m\u001b[0m\u001b[0m\n\u001b[1;32m    327\u001b[0m         \"\"\"\n\u001b[0;32m--> 328\u001b[0;31m         \u001b[0mhtml\u001b[0m \u001b[0;34m=\u001b[0m \u001b[0mself\u001b[0m\u001b[0;34m.\u001b[0m\u001b[0mrender\u001b[0m\u001b[0;34m(\u001b[0m\u001b[0;34m**\u001b[0m\u001b[0mkwargs\u001b[0m\u001b[0;34m)\u001b[0m\u001b[0;34m\u001b[0m\u001b[0;34m\u001b[0m\u001b[0m\n\u001b[0m\u001b[1;32m    329\u001b[0m         \u001b[0mhtml\u001b[0m \u001b[0;34m=\u001b[0m \u001b[0;34m\"data:text/html;charset=utf-8;base64,\"\u001b[0m \u001b[0;34m+\u001b[0m \u001b[0mbase64\u001b[0m\u001b[0;34m.\u001b[0m\u001b[0mb64encode\u001b[0m\u001b[0;34m(\u001b[0m\u001b[0mhtml\u001b[0m\u001b[0;34m.\u001b[0m\u001b[0mencode\u001b[0m\u001b[0;34m(\u001b[0m\u001b[0;34m'utf8'\u001b[0m\u001b[0;34m)\u001b[0m\u001b[0;34m)\u001b[0m\u001b[0;34m.\u001b[0m\u001b[0mdecode\u001b[0m\u001b[0;34m(\u001b[0m\u001b[0;34m'utf8'\u001b[0m\u001b[0;34m)\u001b[0m  \u001b[0;31m# noqa\u001b[0m\u001b[0;34m\u001b[0m\u001b[0;34m\u001b[0m\u001b[0m\n\u001b[1;32m    330\u001b[0m \u001b[0;34m\u001b[0m\u001b[0m\n",
      "\u001b[0;32m/usr/local/lib/python3.7/site-packages/branca/element.py\u001b[0m in \u001b[0;36mrender\u001b[0;34m(self, **kwargs)\u001b[0m\n\u001b[1;32m    319\u001b[0m         \u001b[0;34m\"\"\"Renders the HTML representation of the element.\"\"\"\u001b[0m\u001b[0;34m\u001b[0m\u001b[0;34m\u001b[0m\u001b[0m\n\u001b[1;32m    320\u001b[0m         \u001b[0;32mfor\u001b[0m \u001b[0mname\u001b[0m\u001b[0;34m,\u001b[0m \u001b[0mchild\u001b[0m \u001b[0;32min\u001b[0m \u001b[0mself\u001b[0m\u001b[0;34m.\u001b[0m\u001b[0m_children\u001b[0m\u001b[0;34m.\u001b[0m\u001b[0mitems\u001b[0m\u001b[0;34m(\u001b[0m\u001b[0;34m)\u001b[0m\u001b[0;34m:\u001b[0m\u001b[0;34m\u001b[0m\u001b[0;34m\u001b[0m\u001b[0m\n\u001b[0;32m--> 321\u001b[0;31m             \u001b[0mchild\u001b[0m\u001b[0;34m.\u001b[0m\u001b[0mrender\u001b[0m\u001b[0;34m(\u001b[0m\u001b[0;34m**\u001b[0m\u001b[0mkwargs\u001b[0m\u001b[0;34m)\u001b[0m\u001b[0;34m\u001b[0m\u001b[0;34m\u001b[0m\u001b[0m\n\u001b[0m\u001b[1;32m    322\u001b[0m         \u001b[0;32mreturn\u001b[0m \u001b[0mself\u001b[0m\u001b[0;34m.\u001b[0m\u001b[0m_template\u001b[0m\u001b[0;34m.\u001b[0m\u001b[0mrender\u001b[0m\u001b[0;34m(\u001b[0m\u001b[0mthis\u001b[0m\u001b[0;34m=\u001b[0m\u001b[0mself\u001b[0m\u001b[0;34m,\u001b[0m \u001b[0mkwargs\u001b[0m\u001b[0;34m=\u001b[0m\u001b[0mkwargs\u001b[0m\u001b[0;34m)\u001b[0m\u001b[0;34m\u001b[0m\u001b[0;34m\u001b[0m\u001b[0m\n\u001b[1;32m    323\u001b[0m \u001b[0;34m\u001b[0m\u001b[0m\n",
      "\u001b[0;32m/usr/local/lib/python3.7/site-packages/folium/folium.py\u001b[0m in \u001b[0;36mrender\u001b[0;34m(self, **kwargs)\u001b[0m\n\u001b[1;32m    368\u001b[0m             '</style>'), name='map_style')\n\u001b[1;32m    369\u001b[0m \u001b[0;34m\u001b[0m\u001b[0m\n\u001b[0;32m--> 370\u001b[0;31m         \u001b[0msuper\u001b[0m\u001b[0;34m(\u001b[0m\u001b[0mMap\u001b[0m\u001b[0;34m,\u001b[0m \u001b[0mself\u001b[0m\u001b[0;34m)\u001b[0m\u001b[0;34m.\u001b[0m\u001b[0mrender\u001b[0m\u001b[0;34m(\u001b[0m\u001b[0;34m**\u001b[0m\u001b[0mkwargs\u001b[0m\u001b[0;34m)\u001b[0m\u001b[0;34m\u001b[0m\u001b[0;34m\u001b[0m\u001b[0m\n\u001b[0m\u001b[1;32m    371\u001b[0m \u001b[0;34m\u001b[0m\u001b[0m\n\u001b[1;32m    372\u001b[0m     def fit_bounds(self, bounds, padding_top_left=None,\n",
      "\u001b[0;32m/usr/local/lib/python3.7/site-packages/branca/element.py\u001b[0m in \u001b[0;36mrender\u001b[0;34m(self, **kwargs)\u001b[0m\n\u001b[1;32m    631\u001b[0m \u001b[0;34m\u001b[0m\u001b[0m\n\u001b[1;32m    632\u001b[0m         \u001b[0;32mfor\u001b[0m \u001b[0mname\u001b[0m\u001b[0;34m,\u001b[0m \u001b[0melement\u001b[0m \u001b[0;32min\u001b[0m \u001b[0mself\u001b[0m\u001b[0;34m.\u001b[0m\u001b[0m_children\u001b[0m\u001b[0;34m.\u001b[0m\u001b[0mitems\u001b[0m\u001b[0;34m(\u001b[0m\u001b[0;34m)\u001b[0m\u001b[0;34m:\u001b[0m\u001b[0;34m\u001b[0m\u001b[0;34m\u001b[0m\u001b[0m\n\u001b[0;32m--> 633\u001b[0;31m             \u001b[0melement\u001b[0m\u001b[0;34m.\u001b[0m\u001b[0mrender\u001b[0m\u001b[0;34m(\u001b[0m\u001b[0;34m**\u001b[0m\u001b[0mkwargs\u001b[0m\u001b[0;34m)\u001b[0m\u001b[0;34m\u001b[0m\u001b[0;34m\u001b[0m\u001b[0m\n\u001b[0m",
      "\u001b[0;32m/usr/local/lib/python3.7/site-packages/folium/map.py\u001b[0m in \u001b[0;36mrender\u001b[0;34m(self, **kwargs)\u001b[0m\n\u001b[1;32m    363\u001b[0m \u001b[0;34m\u001b[0m\u001b[0m\n\u001b[1;32m    364\u001b[0m         \u001b[0mfigure\u001b[0m \u001b[0;34m=\u001b[0m \u001b[0mself\u001b[0m\u001b[0;34m.\u001b[0m\u001b[0mget_root\u001b[0m\u001b[0;34m(\u001b[0m\u001b[0;34m)\u001b[0m\u001b[0;34m\u001b[0m\u001b[0;34m\u001b[0m\u001b[0m\n\u001b[0;32m--> 365\u001b[0;31m         assert isinstance(figure, Figure), ('You cannot render this Element '\n\u001b[0m\u001b[1;32m    366\u001b[0m                                             'if it is not in a Figure.')\n\u001b[1;32m    367\u001b[0m \u001b[0;34m\u001b[0m\u001b[0m\n",
      "\u001b[0;31mAssertionError\u001b[0m: You cannot render this Element if it is not in a Figure."
     ]
    },
    {
     "data": {
      "text/plain": [
       "<folium.folium.Map at 0x11294b910>"
      ]
     },
     "metadata": {},
     "output_type": "display_data"
    }
   ],
   "source": [
    "\n",
    "#display(m)"
   ]
  },
  {
   "cell_type": "code",
   "execution_count": 66,
   "metadata": {},
   "outputs": [],
   "source": [
    "#m.save(\"final_map.html\")\n",
    "#recordar que en el mapa le pueden picar a cada bolita y ver el nombre de todas. "
   ]
  },
  {
   "cell_type": "markdown",
   "metadata": {},
   "source": [
    "# CONCLUSIONES\n",
    "\n",
    "-Dado que mi cliente quiere estar en una zona más accesible que Sillicon Valley, yo le recomiendo dirigirse \n",
    "a la zona este del país.\n",
    "\n",
    "-A pesar de que hay muchos puntos rojos de ese lado, si inspeccionamos cada una de las empresas, vemos que realmente solo ninguna es competencia directa. \n",
    "\n",
    "-El resto de empresas entran en la categoría de Software y se dedican a cosas muy distintas: por ejemplo, está \n",
    "App Zero que es para medir tu ritmo cardiaco, Tiverias Apps que es para conectar aplicaciones móviles en la nube,\n",
    "Resumator que es para contratar gente, etc. En realidad no hacen consultoría con Big Data. Nalts Consulting, una empresa en esa área, parecería que es competencia por el nombre, pero una vez que investigamos un poco vemos que no lo es. En realidad es una empresa que hace consultoría de REDES SOCIALES y ayuda a crear más engagement a través de videos en línea. \n",
    "\n",
    "-En el código que viene a continuación, solo puse algunos markers en lugares donde creo que podría ser bueno poner una oficina para una startup, me baso en el siguiente artículo: https://www.crowdspring.com/blog/startups-entrepreneurs-best-startup-cities-us/\n",
    "\n"
   ]
  },
  {
   "cell_type": "code",
   "execution_count": 67,
   "metadata": {},
   "outputs": [],
   "source": [
    "#añadir ciertos espacios de Coworking disponibles en Seattle y Washington, dos ciudades en la Costa Este\n",
    "#que son una buena alternativa a Boston"
   ]
  },
  {
   "cell_type": "code",
   "execution_count": 68,
   "metadata": {},
   "outputs": [
    {
     "data": {
      "text/plain": [
       "<folium.map.Marker at 0x112915190>"
      ]
     },
     "execution_count": 68,
     "metadata": {},
     "output_type": "execute_result"
    }
   ],
   "source": [
    "folium.Marker([47.608013,-122.335167], popup=folium.Popup('<a href=\"https://www.atlas.workbase.com\"target=\"_blank\">\"Atlas Workbase\" </a',icon=folium.Icon(color='green', icon='info-sign')).add_to(m))"
   ]
  },
  {
   "cell_type": "code",
   "execution_count": 69,
   "metadata": {},
   "outputs": [
    {
     "data": {
      "text/plain": [
       "<folium.map.Marker at 0x1121e7b90>"
      ]
     },
     "execution_count": 69,
     "metadata": {},
     "output_type": "execute_result"
    }
   ],
   "source": [
    "folium.Marker([41.881832,-87.623177], popup='Coalition Space: East Loop Coworking',icon=folium.Icon(color=\"green\", icon=\"info-sign\")).add_to(m)"
   ]
  },
  {
   "cell_type": "code",
   "execution_count": 70,
   "metadata": {},
   "outputs": [
    {
     "data": {
      "text/plain": [
       "<folium.map.Marker at 0x1126f9510>"
      ]
     },
     "execution_count": 70,
     "metadata": {},
     "output_type": "execute_result"
    }
   ],
   "source": [
    "folium.Marker([40.440624,-79.99588], popup=folium.Popup('<a href=\"https://www.industriousoffice.com/pittsburgh/ppg-place\"target=\"_blank\">\"Industrious Pittsburgh PPG Place\" </a',icon=folium.Icon(color='green', icon='info-sign')).add_to(m))"
   ]
  },
  {
   "cell_type": "code",
   "execution_count": 71,
   "metadata": {},
   "outputs": [],
   "source": [
    "#display(m)"
   ]
  },
  {
   "cell_type": "code",
   "execution_count": 73,
   "metadata": {},
   "outputs": [
    {
     "ename": "AssertionError",
     "evalue": "You cannot render this Element if it is not in a Figure.",
     "output_type": "error",
     "traceback": [
      "\u001b[0;31m---------------------------------------------------------------------------\u001b[0m",
      "\u001b[0;31mAssertionError\u001b[0m                            Traceback (most recent call last)",
      "\u001b[0;32m/usr/local/Cellar/ipython/7.8.0/libexec/lib/python3.7/site-packages/IPython/core/formatters.py\u001b[0m in \u001b[0;36m__call__\u001b[0;34m(self, obj)\u001b[0m\n\u001b[1;32m    343\u001b[0m             \u001b[0mmethod\u001b[0m \u001b[0;34m=\u001b[0m \u001b[0mget_real_method\u001b[0m\u001b[0;34m(\u001b[0m\u001b[0mobj\u001b[0m\u001b[0;34m,\u001b[0m \u001b[0mself\u001b[0m\u001b[0;34m.\u001b[0m\u001b[0mprint_method\u001b[0m\u001b[0;34m)\u001b[0m\u001b[0;34m\u001b[0m\u001b[0;34m\u001b[0m\u001b[0m\n\u001b[1;32m    344\u001b[0m             \u001b[0;32mif\u001b[0m \u001b[0mmethod\u001b[0m \u001b[0;32mis\u001b[0m \u001b[0;32mnot\u001b[0m \u001b[0;32mNone\u001b[0m\u001b[0;34m:\u001b[0m\u001b[0;34m\u001b[0m\u001b[0;34m\u001b[0m\u001b[0m\n\u001b[0;32m--> 345\u001b[0;31m                 \u001b[0;32mreturn\u001b[0m \u001b[0mmethod\u001b[0m\u001b[0;34m(\u001b[0m\u001b[0;34m)\u001b[0m\u001b[0;34m\u001b[0m\u001b[0;34m\u001b[0m\u001b[0m\n\u001b[0m\u001b[1;32m    346\u001b[0m             \u001b[0;32mreturn\u001b[0m \u001b[0;32mNone\u001b[0m\u001b[0;34m\u001b[0m\u001b[0;34m\u001b[0m\u001b[0m\n\u001b[1;32m    347\u001b[0m         \u001b[0;32melse\u001b[0m\u001b[0;34m:\u001b[0m\u001b[0;34m\u001b[0m\u001b[0;34m\u001b[0m\u001b[0m\n",
      "\u001b[0;32m/usr/local/lib/python3.7/site-packages/folium/folium.py\u001b[0m in \u001b[0;36m_repr_html_\u001b[0;34m(self, **kwargs)\u001b[0m\n\u001b[1;32m    291\u001b[0m             \u001b[0mself\u001b[0m\u001b[0;34m.\u001b[0m\u001b[0m_parent\u001b[0m \u001b[0;34m=\u001b[0m \u001b[0;32mNone\u001b[0m\u001b[0;34m\u001b[0m\u001b[0;34m\u001b[0m\u001b[0m\n\u001b[1;32m    292\u001b[0m         \u001b[0;32melse\u001b[0m\u001b[0;34m:\u001b[0m\u001b[0;34m\u001b[0m\u001b[0;34m\u001b[0m\u001b[0m\n\u001b[0;32m--> 293\u001b[0;31m             \u001b[0mout\u001b[0m \u001b[0;34m=\u001b[0m \u001b[0mself\u001b[0m\u001b[0;34m.\u001b[0m\u001b[0m_parent\u001b[0m\u001b[0;34m.\u001b[0m\u001b[0m_repr_html_\u001b[0m\u001b[0;34m(\u001b[0m\u001b[0;34m**\u001b[0m\u001b[0mkwargs\u001b[0m\u001b[0;34m)\u001b[0m\u001b[0;34m\u001b[0m\u001b[0;34m\u001b[0m\u001b[0m\n\u001b[0m\u001b[1;32m    294\u001b[0m         \u001b[0;32mreturn\u001b[0m \u001b[0mout\u001b[0m\u001b[0;34m\u001b[0m\u001b[0;34m\u001b[0m\u001b[0m\n\u001b[1;32m    295\u001b[0m \u001b[0;34m\u001b[0m\u001b[0m\n",
      "\u001b[0;32m/usr/local/lib/python3.7/site-packages/branca/element.py\u001b[0m in \u001b[0;36m_repr_html_\u001b[0;34m(self, **kwargs)\u001b[0m\n\u001b[1;32m    326\u001b[0m \u001b[0;34m\u001b[0m\u001b[0m\n\u001b[1;32m    327\u001b[0m         \"\"\"\n\u001b[0;32m--> 328\u001b[0;31m         \u001b[0mhtml\u001b[0m \u001b[0;34m=\u001b[0m \u001b[0mself\u001b[0m\u001b[0;34m.\u001b[0m\u001b[0mrender\u001b[0m\u001b[0;34m(\u001b[0m\u001b[0;34m**\u001b[0m\u001b[0mkwargs\u001b[0m\u001b[0;34m)\u001b[0m\u001b[0;34m\u001b[0m\u001b[0;34m\u001b[0m\u001b[0m\n\u001b[0m\u001b[1;32m    329\u001b[0m         \u001b[0mhtml\u001b[0m \u001b[0;34m=\u001b[0m \u001b[0;34m\"data:text/html;charset=utf-8;base64,\"\u001b[0m \u001b[0;34m+\u001b[0m \u001b[0mbase64\u001b[0m\u001b[0;34m.\u001b[0m\u001b[0mb64encode\u001b[0m\u001b[0;34m(\u001b[0m\u001b[0mhtml\u001b[0m\u001b[0;34m.\u001b[0m\u001b[0mencode\u001b[0m\u001b[0;34m(\u001b[0m\u001b[0;34m'utf8'\u001b[0m\u001b[0;34m)\u001b[0m\u001b[0;34m)\u001b[0m\u001b[0;34m.\u001b[0m\u001b[0mdecode\u001b[0m\u001b[0;34m(\u001b[0m\u001b[0;34m'utf8'\u001b[0m\u001b[0;34m)\u001b[0m  \u001b[0;31m# noqa\u001b[0m\u001b[0;34m\u001b[0m\u001b[0;34m\u001b[0m\u001b[0m\n\u001b[1;32m    330\u001b[0m \u001b[0;34m\u001b[0m\u001b[0m\n",
      "\u001b[0;32m/usr/local/lib/python3.7/site-packages/branca/element.py\u001b[0m in \u001b[0;36mrender\u001b[0;34m(self, **kwargs)\u001b[0m\n\u001b[1;32m    319\u001b[0m         \u001b[0;34m\"\"\"Renders the HTML representation of the element.\"\"\"\u001b[0m\u001b[0;34m\u001b[0m\u001b[0;34m\u001b[0m\u001b[0m\n\u001b[1;32m    320\u001b[0m         \u001b[0;32mfor\u001b[0m \u001b[0mname\u001b[0m\u001b[0;34m,\u001b[0m \u001b[0mchild\u001b[0m \u001b[0;32min\u001b[0m \u001b[0mself\u001b[0m\u001b[0;34m.\u001b[0m\u001b[0m_children\u001b[0m\u001b[0;34m.\u001b[0m\u001b[0mitems\u001b[0m\u001b[0;34m(\u001b[0m\u001b[0;34m)\u001b[0m\u001b[0;34m:\u001b[0m\u001b[0;34m\u001b[0m\u001b[0;34m\u001b[0m\u001b[0m\n\u001b[0;32m--> 321\u001b[0;31m             \u001b[0mchild\u001b[0m\u001b[0;34m.\u001b[0m\u001b[0mrender\u001b[0m\u001b[0;34m(\u001b[0m\u001b[0;34m**\u001b[0m\u001b[0mkwargs\u001b[0m\u001b[0;34m)\u001b[0m\u001b[0;34m\u001b[0m\u001b[0;34m\u001b[0m\u001b[0m\n\u001b[0m\u001b[1;32m    322\u001b[0m         \u001b[0;32mreturn\u001b[0m \u001b[0mself\u001b[0m\u001b[0;34m.\u001b[0m\u001b[0m_template\u001b[0m\u001b[0;34m.\u001b[0m\u001b[0mrender\u001b[0m\u001b[0;34m(\u001b[0m\u001b[0mthis\u001b[0m\u001b[0;34m=\u001b[0m\u001b[0mself\u001b[0m\u001b[0;34m,\u001b[0m \u001b[0mkwargs\u001b[0m\u001b[0;34m=\u001b[0m\u001b[0mkwargs\u001b[0m\u001b[0;34m)\u001b[0m\u001b[0;34m\u001b[0m\u001b[0;34m\u001b[0m\u001b[0m\n\u001b[1;32m    323\u001b[0m \u001b[0;34m\u001b[0m\u001b[0m\n",
      "\u001b[0;32m/usr/local/lib/python3.7/site-packages/folium/folium.py\u001b[0m in \u001b[0;36mrender\u001b[0;34m(self, **kwargs)\u001b[0m\n\u001b[1;32m    368\u001b[0m             '</style>'), name='map_style')\n\u001b[1;32m    369\u001b[0m \u001b[0;34m\u001b[0m\u001b[0m\n\u001b[0;32m--> 370\u001b[0;31m         \u001b[0msuper\u001b[0m\u001b[0;34m(\u001b[0m\u001b[0mMap\u001b[0m\u001b[0;34m,\u001b[0m \u001b[0mself\u001b[0m\u001b[0;34m)\u001b[0m\u001b[0;34m.\u001b[0m\u001b[0mrender\u001b[0m\u001b[0;34m(\u001b[0m\u001b[0;34m**\u001b[0m\u001b[0mkwargs\u001b[0m\u001b[0;34m)\u001b[0m\u001b[0;34m\u001b[0m\u001b[0;34m\u001b[0m\u001b[0m\n\u001b[0m\u001b[1;32m    371\u001b[0m \u001b[0;34m\u001b[0m\u001b[0m\n\u001b[1;32m    372\u001b[0m     def fit_bounds(self, bounds, padding_top_left=None,\n",
      "\u001b[0;32m/usr/local/lib/python3.7/site-packages/branca/element.py\u001b[0m in \u001b[0;36mrender\u001b[0;34m(self, **kwargs)\u001b[0m\n\u001b[1;32m    631\u001b[0m \u001b[0;34m\u001b[0m\u001b[0m\n\u001b[1;32m    632\u001b[0m         \u001b[0;32mfor\u001b[0m \u001b[0mname\u001b[0m\u001b[0;34m,\u001b[0m \u001b[0melement\u001b[0m \u001b[0;32min\u001b[0m \u001b[0mself\u001b[0m\u001b[0;34m.\u001b[0m\u001b[0m_children\u001b[0m\u001b[0;34m.\u001b[0m\u001b[0mitems\u001b[0m\u001b[0;34m(\u001b[0m\u001b[0;34m)\u001b[0m\u001b[0;34m:\u001b[0m\u001b[0;34m\u001b[0m\u001b[0;34m\u001b[0m\u001b[0m\n\u001b[0;32m--> 633\u001b[0;31m             \u001b[0melement\u001b[0m\u001b[0;34m.\u001b[0m\u001b[0mrender\u001b[0m\u001b[0;34m(\u001b[0m\u001b[0;34m**\u001b[0m\u001b[0mkwargs\u001b[0m\u001b[0;34m)\u001b[0m\u001b[0;34m\u001b[0m\u001b[0;34m\u001b[0m\u001b[0m\n\u001b[0m",
      "\u001b[0;32m/usr/local/lib/python3.7/site-packages/folium/map.py\u001b[0m in \u001b[0;36mrender\u001b[0;34m(self, **kwargs)\u001b[0m\n\u001b[1;32m    363\u001b[0m \u001b[0;34m\u001b[0m\u001b[0m\n\u001b[1;32m    364\u001b[0m         \u001b[0mfigure\u001b[0m \u001b[0;34m=\u001b[0m \u001b[0mself\u001b[0m\u001b[0;34m.\u001b[0m\u001b[0mget_root\u001b[0m\u001b[0;34m(\u001b[0m\u001b[0;34m)\u001b[0m\u001b[0;34m\u001b[0m\u001b[0;34m\u001b[0m\u001b[0m\n\u001b[0;32m--> 365\u001b[0;31m         assert isinstance(figure, Figure), ('You cannot render this Element '\n\u001b[0m\u001b[1;32m    366\u001b[0m                                             'if it is not in a Figure.')\n\u001b[1;32m    367\u001b[0m \u001b[0;34m\u001b[0m\u001b[0m\n",
      "\u001b[0;31mAssertionError\u001b[0m: You cannot render this Element if it is not in a Figure."
     ]
    },
    {
     "data": {
      "text/plain": [
       "<folium.folium.Map at 0x11294b910>"
      ]
     },
     "metadata": {},
     "output_type": "display_data"
    }
   ],
   "source": [
    "display(m)"
   ]
  },
  {
   "cell_type": "code",
   "execution_count": null,
   "metadata": {},
   "outputs": [],
   "source": []
  }
 ],
 "metadata": {
  "kernelspec": {
   "display_name": "Python 3",
   "language": "python",
   "name": "python3"
  },
  "language_info": {
   "codemirror_mode": {
    "name": "ipython",
    "version": 3
   },
   "file_extension": ".py",
   "mimetype": "text/x-python",
   "name": "python",
   "nbconvert_exporter": "python",
   "pygments_lexer": "ipython3",
   "version": "3.7.5"
  }
 },
 "nbformat": 4,
 "nbformat_minor": 2
}
