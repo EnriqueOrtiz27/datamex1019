{
 "cells": [
  {
   "cell_type": "markdown",
   "metadata": {},
   "source": [
    "# Los pasos son muy similares:\n",
    "    \n",
    "    -filtrar la base de datos\n",
    "    -hacer todo el rollo de encontrar las oficinas que tienen\n",
    "    -limpiar un poco la base\n",
    "    -preparar las cosas de geolocalización\n",
    "    -graficar el mapa.\n",
    "    \n",
    "    **Esta vez comentaré todo menos porque es muy similar a los pasos que seguí en \"data_wrangling\""
   ]
  },
  {
   "cell_type": "code",
   "execution_count": 1,
   "metadata": {},
   "outputs": [],
   "source": [
    "import pandas as pd\n",
    "import numpy as np\n",
    "import folium\n",
    "from folium import plugins\n",
    "import pymongo\n",
    "from pandas.io.json import json_normalize"
   ]
  },
  {
   "cell_type": "code",
   "execution_count": 2,
   "metadata": {},
   "outputs": [],
   "source": [
    "client = pymongo.MongoClient()"
   ]
  },
  {
   "cell_type": "code",
   "execution_count": 3,
   "metadata": {},
   "outputs": [],
   "source": [
    "db = client.companies_db"
   ]
  },
  {
   "cell_type": "code",
   "execution_count": 4,
   "metadata": {},
   "outputs": [],
   "source": [
    "data = db.data"
   ]
  },
  {
   "cell_type": "code",
   "execution_count": 5,
   "metadata": {},
   "outputs": [],
   "source": [
    "competition = db.data.find({'$and': [{'number_of_employees': {'$lte': 100}},\\\n",
    "                                       {'offices':{'$not':{'$size':0}}},\\\n",
    "                                       {'category_code': 'consulting'},\n",
    "                                      {'founded_year': {'$gte': 2009}}]},\n",
    "                            {'name':1,'category_code':1,'offices':1, '_id':0})"
   ]
  },
  {
   "cell_type": "code",
   "execution_count": 6,
   "metadata": {},
   "outputs": [
    {
     "data": {
      "text/plain": [
       "(11, 3)"
      ]
     },
     "execution_count": 6,
     "metadata": {},
     "output_type": "execute_result"
    }
   ],
   "source": [
    "df = pd.DataFrame(competition)\n",
    "df.shape"
   ]
  },
  {
   "cell_type": "code",
   "execution_count": 7,
   "metadata": {},
   "outputs": [],
   "source": [
    "software = db.data.find({'$and': [{'number_of_employees': {'$lte': 100}},\\\n",
    "                                       {'offices':{'$not':{'$size':0}}},\\\n",
    "                                       {'category_code': 'software'},\n",
    "                                      {'founded_year': {'$gte': 2009}}]},\n",
    "                            {'name':1,'category_code':1,'offices':1, '_id':0})"
   ]
  },
  {
   "cell_type": "code",
   "execution_count": 8,
   "metadata": {},
   "outputs": [],
   "source": [
    "df2 = pd.DataFrame(software)"
   ]
  },
  {
   "cell_type": "code",
   "execution_count": 9,
   "metadata": {},
   "outputs": [],
   "source": [
    "df3 = pd.concat([df,df2],axis=0)[['name', 'category_code','offices']]"
   ]
  },
  {
   "cell_type": "code",
   "execution_count": 10,
   "metadata": {},
   "outputs": [
    {
     "data": {
      "text/plain": [
       "(57, 3)"
      ]
     },
     "execution_count": 10,
     "metadata": {},
     "output_type": "execute_result"
    }
   ],
   "source": [
    "df3.shape"
   ]
  },
  {
   "cell_type": "code",
   "execution_count": 11,
   "metadata": {},
   "outputs": [
    {
     "data": {
      "text/html": [
       "<div>\n",
       "<style scoped>\n",
       "    .dataframe tbody tr th:only-of-type {\n",
       "        vertical-align: middle;\n",
       "    }\n",
       "\n",
       "    .dataframe tbody tr th {\n",
       "        vertical-align: top;\n",
       "    }\n",
       "\n",
       "    .dataframe thead th {\n",
       "        text-align: right;\n",
       "    }\n",
       "</style>\n",
       "<table border=\"1\" class=\"dataframe\">\n",
       "  <thead>\n",
       "    <tr style=\"text-align: right;\">\n",
       "      <th></th>\n",
       "      <th>name</th>\n",
       "      <th>category_code</th>\n",
       "      <th>offices</th>\n",
       "    </tr>\n",
       "  </thead>\n",
       "  <tbody>\n",
       "    <tr>\n",
       "      <th>0</th>\n",
       "      <td>Revenue Architects</td>\n",
       "      <td>consulting</td>\n",
       "      <td>[{'description': 'Home Office', 'address1': '2...</td>\n",
       "    </tr>\n",
       "    <tr>\n",
       "      <th>1</th>\n",
       "      <td>JumpFox</td>\n",
       "      <td>consulting</td>\n",
       "      <td>[{'description': 'HQ', 'address1': '544 Natoma...</td>\n",
       "    </tr>\n",
       "    <tr>\n",
       "      <th>2</th>\n",
       "      <td>The Vertical Action Group</td>\n",
       "      <td>consulting</td>\n",
       "      <td>[{'description': 'World Headquarters', 'addres...</td>\n",
       "    </tr>\n",
       "    <tr>\n",
       "      <th>3</th>\n",
       "      <td>Compel Interaction</td>\n",
       "      <td>consulting</td>\n",
       "      <td>[{'description': 'Ann Arbor Office', 'address1...</td>\n",
       "    </tr>\n",
       "  </tbody>\n",
       "</table>\n",
       "</div>"
      ],
      "text/plain": [
       "                        name category_code  \\\n",
       "0         Revenue Architects    consulting   \n",
       "1                    JumpFox    consulting   \n",
       "2  The Vertical Action Group    consulting   \n",
       "3         Compel Interaction    consulting   \n",
       "\n",
       "                                             offices  \n",
       "0  [{'description': 'Home Office', 'address1': '2...  \n",
       "1  [{'description': 'HQ', 'address1': '544 Natoma...  \n",
       "2  [{'description': 'World Headquarters', 'addres...  \n",
       "3  [{'description': 'Ann Arbor Office', 'address1...  "
      ]
     },
     "execution_count": 11,
     "metadata": {},
     "output_type": "execute_result"
    }
   ],
   "source": [
    "df3.head(4)"
   ]
  },
  {
   "cell_type": "code",
   "execution_count": 12,
   "metadata": {},
   "outputs": [],
   "source": [
    "df_c = df3.dropna(axis=0)"
   ]
  },
  {
   "cell_type": "code",
   "execution_count": 13,
   "metadata": {},
   "outputs": [],
   "source": [
    "df_c = df_c.reset_index()"
   ]
  },
  {
   "cell_type": "code",
   "execution_count": 26,
   "metadata": {},
   "outputs": [
    {
     "data": {
      "text/plain": [
       "[{'description': 'Home Office',\n",
       "  'address1': '24 Federal St',\n",
       "  'address2': '4th Floor',\n",
       "  'zip_code': '02110',\n",
       "  'city': 'Boston',\n",
       "  'state_code': 'MA',\n",
       "  'country_code': 'USA',\n",
       "  'latitude': None,\n",
       "  'longitude': None}]"
      ]
     },
     "execution_count": 26,
     "metadata": {},
     "output_type": "execute_result"
    }
   ],
   "source": [
    "#df_c['offices'][0] en realidad no muchas tienen info de la dirección; son 57 empresas en total."
   ]
  },
  {
   "cell_type": "code",
   "execution_count": 16,
   "metadata": {},
   "outputs": [],
   "source": [
    "def get_first(data):\n",
    "    res=[]\n",
    "    ofi=[]\n",
    "    \n",
    "    data=data['offices']\n",
    "    for e in data:\n",
    "        principal=None   # solo las tienen geodata\n",
    "        if e[0]['latitude'] and e[0]['longitude']:\n",
    "            principal={'type':'Point',\n",
    "                       'coordinates':[\n",
    "                           e[0]['longitude'],\n",
    "                           e[0]['latitude']\n",
    "                       ]}\n",
    "            \n",
    "        ofi.append(principal)\n",
    "        \n",
    "        res.append({\n",
    "            'total_offices':len(e),\n",
    "            'lat':e[0]['latitude'],\n",
    "            'lng':e[0]['longitude'],\n",
    "            'oficina_principal':principal\n",
    "        })\n",
    "    \n",
    "    return res, ofi"
   ]
  },
  {
   "cell_type": "code",
   "execution_count": 17,
   "metadata": {},
   "outputs": [
    {
     "data": {
      "text/html": [
       "<div>\n",
       "<style scoped>\n",
       "    .dataframe tbody tr th:only-of-type {\n",
       "        vertical-align: middle;\n",
       "    }\n",
       "\n",
       "    .dataframe tbody tr th {\n",
       "        vertical-align: top;\n",
       "    }\n",
       "\n",
       "    .dataframe thead th {\n",
       "        text-align: right;\n",
       "    }\n",
       "</style>\n",
       "<table border=\"1\" class=\"dataframe\">\n",
       "  <thead>\n",
       "    <tr style=\"text-align: right;\">\n",
       "      <th></th>\n",
       "      <th>total_offices</th>\n",
       "      <th>lat</th>\n",
       "      <th>lng</th>\n",
       "      <th>oficina_principal</th>\n",
       "      <th>oficina_principal.type</th>\n",
       "      <th>oficina_principal.coordinates</th>\n",
       "    </tr>\n",
       "  </thead>\n",
       "  <tbody>\n",
       "    <tr>\n",
       "      <th>0</th>\n",
       "      <td>1</td>\n",
       "      <td>NaN</td>\n",
       "      <td>NaN</td>\n",
       "      <td>None</td>\n",
       "      <td>NaN</td>\n",
       "      <td>NaN</td>\n",
       "    </tr>\n",
       "    <tr>\n",
       "      <th>1</th>\n",
       "      <td>1</td>\n",
       "      <td>NaN</td>\n",
       "      <td>NaN</td>\n",
       "      <td>None</td>\n",
       "      <td>NaN</td>\n",
       "      <td>NaN</td>\n",
       "    </tr>\n",
       "    <tr>\n",
       "      <th>2</th>\n",
       "      <td>1</td>\n",
       "      <td>37.798318</td>\n",
       "      <td>-122.400003</td>\n",
       "      <td>{'type': 'Point', 'coordinates': [-122.4000032...</td>\n",
       "      <td>Point</td>\n",
       "      <td>[-122.4000032, 37.7983181]</td>\n",
       "    </tr>\n",
       "    <tr>\n",
       "      <th>3</th>\n",
       "      <td>3</td>\n",
       "      <td>42.281569</td>\n",
       "      <td>-83.813914</td>\n",
       "      <td>{'type': 'Point', 'coordinates': [-83.813914, ...</td>\n",
       "      <td>Point</td>\n",
       "      <td>[-83.813914, 42.281569]</td>\n",
       "    </tr>\n",
       "    <tr>\n",
       "      <th>4</th>\n",
       "      <td>1</td>\n",
       "      <td>NaN</td>\n",
       "      <td>NaN</td>\n",
       "      <td>None</td>\n",
       "      <td>NaN</td>\n",
       "      <td>NaN</td>\n",
       "    </tr>\n",
       "  </tbody>\n",
       "</table>\n",
       "</div>"
      ],
      "text/plain": [
       "   total_offices        lat         lng  \\\n",
       "0              1        NaN         NaN   \n",
       "1              1        NaN         NaN   \n",
       "2              1  37.798318 -122.400003   \n",
       "3              3  42.281569  -83.813914   \n",
       "4              1        NaN         NaN   \n",
       "\n",
       "                                   oficina_principal oficina_principal.type  \\\n",
       "0                                               None                    NaN   \n",
       "1                                               None                    NaN   \n",
       "2  {'type': 'Point', 'coordinates': [-122.4000032...                  Point   \n",
       "3  {'type': 'Point', 'coordinates': [-83.813914, ...                  Point   \n",
       "4                                               None                    NaN   \n",
       "\n",
       "  oficina_principal.coordinates  \n",
       "0                           NaN  \n",
       "1                           NaN  \n",
       "2    [-122.4000032, 37.7983181]  \n",
       "3       [-83.813914, 42.281569]  \n",
       "4                           NaN  "
      ]
     },
     "execution_count": 17,
     "metadata": {},
     "output_type": "execute_result"
    }
   ],
   "source": [
    "first_office=json_normalize(get_first(df_c)[0])\n",
    "first_office['oficina_principal']=get_first(df_c)[1]\n",
    "first_office.head()"
   ]
  },
  {
   "cell_type": "code",
   "execution_count": 22,
   "metadata": {},
   "outputs": [
    {
     "data": {
      "text/plain": [
       "index            0\n",
       "name             0\n",
       "category_code    0\n",
       "offices          0\n",
       "dtype: int64"
      ]
     },
     "execution_count": 22,
     "metadata": {},
     "output_type": "execute_result"
    }
   ],
   "source": [
    "df_c.isnull().sum()"
   ]
  },
  {
   "cell_type": "code",
   "execution_count": 27,
   "metadata": {},
   "outputs": [],
   "source": [
    "df_clean=pd.concat([df_c, first_office], axis=1)[['name', 'category_code', 'lat', 'lng', 'oficina_principal']]"
   ]
  },
  {
   "cell_type": "code",
   "execution_count": 30,
   "metadata": {},
   "outputs": [],
   "source": [
    "#df_clean.head()"
   ]
  },
  {
   "cell_type": "code",
   "execution_count": 29,
   "metadata": {},
   "outputs": [],
   "source": [
    "df_clean = df_clean.dropna(axis=0)\n",
    "df_clean.reset_index(inplace=True)"
   ]
  },
  {
   "cell_type": "code",
   "execution_count": 32,
   "metadata": {},
   "outputs": [
    {
     "data": {
      "text/html": [
       "<div>\n",
       "<style scoped>\n",
       "    .dataframe tbody tr th:only-of-type {\n",
       "        vertical-align: middle;\n",
       "    }\n",
       "\n",
       "    .dataframe tbody tr th {\n",
       "        vertical-align: top;\n",
       "    }\n",
       "\n",
       "    .dataframe thead th {\n",
       "        text-align: right;\n",
       "    }\n",
       "</style>\n",
       "<table border=\"1\" class=\"dataframe\">\n",
       "  <thead>\n",
       "    <tr style=\"text-align: right;\">\n",
       "      <th></th>\n",
       "      <th>index</th>\n",
       "      <th>name</th>\n",
       "      <th>category_code</th>\n",
       "      <th>lat</th>\n",
       "      <th>lng</th>\n",
       "      <th>oficina_principal</th>\n",
       "    </tr>\n",
       "  </thead>\n",
       "  <tbody>\n",
       "    <tr>\n",
       "      <th>0</th>\n",
       "      <td>2</td>\n",
       "      <td>The Vertical Action Group</td>\n",
       "      <td>consulting</td>\n",
       "      <td>37.798318</td>\n",
       "      <td>-122.400003</td>\n",
       "      <td>{'type': 'Point', 'coordinates': [-122.4000032...</td>\n",
       "    </tr>\n",
       "    <tr>\n",
       "      <th>1</th>\n",
       "      <td>3</td>\n",
       "      <td>Compel Interaction</td>\n",
       "      <td>consulting</td>\n",
       "      <td>42.281569</td>\n",
       "      <td>-83.813914</td>\n",
       "      <td>{'type': 'Point', 'coordinates': [-83.813914, ...</td>\n",
       "    </tr>\n",
       "    <tr>\n",
       "      <th>2</th>\n",
       "      <td>5</td>\n",
       "      <td>Fan</td>\n",
       "      <td>consulting</td>\n",
       "      <td>-37.992415</td>\n",
       "      <td>-57.553824</td>\n",
       "      <td>{'type': 'Point', 'coordinates': [-57.5538238,...</td>\n",
       "    </tr>\n",
       "  </tbody>\n",
       "</table>\n",
       "</div>"
      ],
      "text/plain": [
       "   index                       name category_code        lat         lng  \\\n",
       "0      2  The Vertical Action Group    consulting  37.798318 -122.400003   \n",
       "1      3         Compel Interaction    consulting  42.281569  -83.813914   \n",
       "2      5                        Fan    consulting -37.992415  -57.553824   \n",
       "\n",
       "                                   oficina_principal  \n",
       "0  {'type': 'Point', 'coordinates': [-122.4000032...  \n",
       "1  {'type': 'Point', 'coordinates': [-83.813914, ...  \n",
       "2  {'type': 'Point', 'coordinates': [-57.5538238,...  "
      ]
     },
     "execution_count": 32,
     "metadata": {},
     "output_type": "execute_result"
    }
   ],
   "source": [
    "df_clean.head(3)"
   ]
  },
  {
   "cell_type": "code",
   "execution_count": 33,
   "metadata": {},
   "outputs": [],
   "source": [
    "df4 = pd.DataFrame()\n",
    "#hice un nuevo dataframe porque por alguna razón en el otro se me hicieron dos índices"
   ]
  },
  {
   "cell_type": "code",
   "execution_count": 34,
   "metadata": {},
   "outputs": [],
   "source": [
    "df4['name']= df_clean.name\n",
    "df4['category_code'] = df_clean.category_code\n",
    "df4['lat'] = df_clean.lat\n",
    "df4['lng'] = df_clean.lng\n",
    "df4['oficina_principal'] = df_clean.oficina_principal"
   ]
  },
  {
   "cell_type": "code",
   "execution_count": 36,
   "metadata": {},
   "outputs": [
    {
     "data": {
      "text/html": [
       "<div>\n",
       "<style scoped>\n",
       "    .dataframe tbody tr th:only-of-type {\n",
       "        vertical-align: middle;\n",
       "    }\n",
       "\n",
       "    .dataframe tbody tr th {\n",
       "        vertical-align: top;\n",
       "    }\n",
       "\n",
       "    .dataframe thead th {\n",
       "        text-align: right;\n",
       "    }\n",
       "</style>\n",
       "<table border=\"1\" class=\"dataframe\">\n",
       "  <thead>\n",
       "    <tr style=\"text-align: right;\">\n",
       "      <th></th>\n",
       "      <th>name</th>\n",
       "      <th>category_code</th>\n",
       "      <th>lat</th>\n",
       "      <th>lng</th>\n",
       "      <th>oficina_principal</th>\n",
       "    </tr>\n",
       "  </thead>\n",
       "  <tbody>\n",
       "    <tr>\n",
       "      <th>0</th>\n",
       "      <td>The Vertical Action Group</td>\n",
       "      <td>consulting</td>\n",
       "      <td>37.798318</td>\n",
       "      <td>-122.400003</td>\n",
       "      <td>{'type': 'Point', 'coordinates': [-122.4000032...</td>\n",
       "    </tr>\n",
       "    <tr>\n",
       "      <th>1</th>\n",
       "      <td>Compel Interaction</td>\n",
       "      <td>consulting</td>\n",
       "      <td>42.281569</td>\n",
       "      <td>-83.813914</td>\n",
       "      <td>{'type': 'Point', 'coordinates': [-83.813914, ...</td>\n",
       "    </tr>\n",
       "    <tr>\n",
       "      <th>2</th>\n",
       "      <td>Fan</td>\n",
       "      <td>consulting</td>\n",
       "      <td>-37.992415</td>\n",
       "      <td>-57.553824</td>\n",
       "      <td>{'type': 'Point', 'coordinates': [-57.5538238,...</td>\n",
       "    </tr>\n",
       "    <tr>\n",
       "      <th>3</th>\n",
       "      <td>Nalts Consulting</td>\n",
       "      <td>consulting</td>\n",
       "      <td>40.311350</td>\n",
       "      <td>-75.113524</td>\n",
       "      <td>{'type': 'Point', 'coordinates': [-75.1135236,...</td>\n",
       "    </tr>\n",
       "  </tbody>\n",
       "</table>\n",
       "</div>"
      ],
      "text/plain": [
       "                        name category_code        lat         lng  \\\n",
       "0  The Vertical Action Group    consulting  37.798318 -122.400003   \n",
       "1         Compel Interaction    consulting  42.281569  -83.813914   \n",
       "2                        Fan    consulting -37.992415  -57.553824   \n",
       "3           Nalts Consulting    consulting  40.311350  -75.113524   \n",
       "\n",
       "                                   oficina_principal  \n",
       "0  {'type': 'Point', 'coordinates': [-122.4000032...  \n",
       "1  {'type': 'Point', 'coordinates': [-83.813914, ...  \n",
       "2  {'type': 'Point', 'coordinates': [-57.5538238,...  \n",
       "3  {'type': 'Point', 'coordinates': [-75.1135236,...  "
      ]
     },
     "execution_count": 36,
     "metadata": {},
     "output_type": "execute_result"
    }
   ],
   "source": [
    "df4.head(4)"
   ]
  },
  {
   "cell_type": "code",
   "execution_count": 37,
   "metadata": {},
   "outputs": [
    {
     "data": {
      "text/plain": [
       "'oficina_principal_2dsphere'"
      ]
     },
     "execution_count": 37,
     "metadata": {},
     "output_type": "execute_result"
    }
   ],
   "source": [
    "#db.comptetitors.insert_many(df4.to_dict('records'))\n",
    "#db.comptetitors.create_index([('oficina_principal', '2dsphere')])\n",
    "#lo mismo: corrí estos códigos una sola vez."
   ]
  },
  {
   "cell_type": "code",
   "execution_count": 38,
   "metadata": {},
   "outputs": [],
   "source": [
    "m = folium.Map(location=[39.8282,-98.5795], tiles='stamentoner', zoom_start=4)"
   ]
  },
  {
   "cell_type": "code",
   "execution_count": 39,
   "metadata": {},
   "outputs": [
    {
     "data": {
      "text/plain": [
       "name                 0\n",
       "category_code        0\n",
       "lat                  0\n",
       "lng                  0\n",
       "oficina_principal    0\n",
       "dtype: int64"
      ]
     },
     "execution_count": 39,
     "metadata": {},
     "output_type": "execute_result"
    }
   ],
   "source": [
    "# df4.isnull().sum() ya no hay nulos"
   ]
  },
  {
   "cell_type": "code",
   "execution_count": 44,
   "metadata": {},
   "outputs": [],
   "source": [
    "list_lat = df4.lat.values\n",
    "list_long = df4.lng.values\n",
    "names = df_clean.name.astype(str).values"
   ]
  },
  {
   "cell_type": "code",
   "execution_count": 45,
   "metadata": {},
   "outputs": [
    {
     "data": {
      "text/plain": [
       "array(['The Vertical Action Group', 'Compel Interaction', 'Fan',\n",
       "       'Nalts Consulting', 'Outspoken Media', 'MyChances', 'Macroaxis',\n",
       "       'Carfeine', 'BitRock', 'JumpForward', 'Navara',\n",
       "       'Unison Technologies', 'Reachoo', 'kinDragon', 'Transifex',\n",
       "       'AppZero', 'PebbleForge', 'OBE Pro', 'Setster',\n",
       "       'GameChanger Media', 'crush tweet', 'CineSoft', 'Antelink',\n",
       "       '1calendar', 'AlphaPoint Technology', \"Book'd\", 'makandra',\n",
       "       'DP7 Digital', 'JustProto', 'The Resumator', 'IndiaOnAPage',\n",
       "       'Nirvana', 'Eventric', 'ResuWe', 'Taxi Fares app', 'Lipperhey',\n",
       "       'LugIron Software', 'ftopia', 'Tiverias Apps'], dtype=object)"
      ]
     },
     "execution_count": 45,
     "metadata": {},
     "output_type": "execute_result"
    }
   ],
   "source": [
    "names"
   ]
  },
  {
   "cell_type": "code",
   "execution_count": null,
   "metadata": {},
   "outputs": [],
   "source": []
  }
 ],
 "metadata": {
  "kernelspec": {
   "display_name": "Python 3",
   "language": "python",
   "name": "python3"
  },
  "language_info": {
   "codemirror_mode": {
    "name": "ipython",
    "version": 3
   },
   "file_extension": ".py",
   "mimetype": "text/x-python",
   "name": "python",
   "nbconvert_exporter": "python",
   "pygments_lexer": "ipython3",
   "version": "3.7.5"
  }
 },
 "nbformat": 4,
 "nbformat_minor": 2
}
