{
 "cells": [
  {
   "cell_type": "markdown",
   "metadata": {},
   "source": [
    "# Before your start:\n",
    "- Read the README.md file\n",
    "- Comment as much as you can and use the resources in the README.md file\n",
    "- Happy learning!"
   ]
  },
  {
   "cell_type": "code",
   "execution_count": 1,
   "metadata": {},
   "outputs": [],
   "source": [
    "from functools import reduce\n",
    "import numpy as np\n",
    "import pandas as pd\n"
   ]
  },
  {
   "cell_type": "markdown",
   "metadata": {},
   "source": [
    "# Challenge 1 - Mapping\n",
    "\n",
    "#### We will use the map function to clean up a words in a book.\n",
    "\n",
    "In the following cell, we will read a text file containing the book The Prophet by Khalil Gibran."
   ]
  },
  {
   "cell_type": "code",
   "execution_count": 2,
   "metadata": {},
   "outputs": [],
   "source": [
    "# Run this code:\n",
    "\n",
    "location = '../58585-0.txt'\n",
    "with open(location, 'r', encoding=\"utf8\") as f:\n",
    "    prophet = f.read().split(' ')"
   ]
  },
  {
   "cell_type": "markdown",
   "metadata": {},
   "source": [
    "#### Let's remove the first 568 words since they contain information about the book but are not part of the book itself. \n",
    "\n",
    "Do this by removing from `prophet` elements 0 through 567 of the list (you can also do this by keeping elements 568 through the last element)."
   ]
  },
  {
   "cell_type": "code",
   "execution_count": 3,
   "metadata": {},
   "outputs": [
    {
     "name": "stdout",
     "output_type": "stream",
     "text": [
      "13069\n"
     ]
    }
   ],
   "source": [
    "# Your code here:\n",
    "\n",
    "prophet = prophet[568:]\n",
    "print(len(prophet))"
   ]
  },
  {
   "cell_type": "markdown",
   "metadata": {},
   "source": [
    "If you look through the words, you will find that many words have a reference attached to them. For example, let's look at words 1 through 10."
   ]
  },
  {
   "cell_type": "code",
   "execution_count": 4,
   "metadata": {},
   "outputs": [
    {
     "name": "stdout",
     "output_type": "stream",
     "text": [
      "['PROPHET\\n\\n|Almustafa,', 'the{7}', 'chosen', 'and', 'the\\nbeloved,', 'who', 'was', 'a', 'dawn', 'unto']\n"
     ]
    }
   ],
   "source": [
    "# Your code here:\n",
    "\n",
    "print(prophet[0:10])"
   ]
  },
  {
   "cell_type": "markdown",
   "metadata": {},
   "source": [
    "#### The next step is to create a function that will remove references. \n",
    "\n",
    "We will do this by splitting the string on the `{` character and keeping only the part before this character. Write your function below."
   ]
  },
  {
   "cell_type": "code",
   "execution_count": 35,
   "metadata": {},
   "outputs": [],
   "source": [
    "def reference(x):\n",
    "    '''\n",
    "    Input: A string\n",
    "    Output: The string with references removed\n",
    "    \n",
    "    Example:\n",
    "    Input: 'the{7}'\n",
    "    Output: 'the'\n",
    "    '''\n",
    "    \n",
    "    # Your code here:\n",
    "    import re\n",
    "    x = re.sub(r'\\W', ' ', x)\n",
    "    return x\n",
    "    "
   ]
  },
  {
   "cell_type": "markdown",
   "metadata": {},
   "source": [
    "Now that we have our function, use the `map()` function to apply this function to our book, The Prophet. Return the resulting list to a new list called `prophet_reference`"
   ]
  },
  {
   "cell_type": "code",
   "execution_count": 36,
   "metadata": {},
   "outputs": [
    {
     "name": "stdout",
     "output_type": "stream",
     "text": [
      "['PROPHET   Almustafa ', 'the 7 ', 'chosen', 'and', 'the beloved ', 'who', 'was', 'a', 'dawn', 'unto']\n"
     ]
    }
   ],
   "source": [
    "# Your code here:\n",
    "prophet_reference = list(map(reference, prophet))\n",
    "print(prophet_reference[0:10])\n"
   ]
  },
  {
   "cell_type": "markdown",
   "metadata": {},
   "source": [
    "Another thing you may have noticed is that some words contain a line break. Let's write a function to split those words. Our function will return the string split on the character `\\n`. Write your function in the cell below."
   ]
  },
  {
   "cell_type": "code",
   "execution_count": 7,
   "metadata": {},
   "outputs": [],
   "source": [
    "def line_break(x):\n",
    "    '''\n",
    "    Input: A string\n",
    "    Output: A list of strings split on the line break (\\n) character\n",
    "        \n",
    "    Example:\n",
    "    Input: 'the\\nbeloved'\n",
    "    Output: ['the', 'beloved']\n",
    "    '''\n",
    "    \n",
    "    # Your code here:\n",
    "#my past code already solves this problem! \n",
    "    "
   ]
  },
  {
   "cell_type": "markdown",
   "metadata": {},
   "source": [
    "Apply the `line_break` function to the `prophet_reference` list. Name the new list `prophet_line`."
   ]
  },
  {
   "cell_type": "code",
   "execution_count": 8,
   "metadata": {},
   "outputs": [],
   "source": [
    "# Your code here:\n",
    "# proohet_reference will equal prophet_line\n",
    "\n"
   ]
  },
  {
   "cell_type": "markdown",
   "metadata": {},
   "source": [
    "If you look at the elements of `prophet_line`, you will see that the function returned lists and not strings. Our list is now a list of lists. Flatten the list using list comprehension. Assign this new list to `prophet_flat`."
   ]
  },
  {
   "cell_type": "code",
   "execution_count": 9,
   "metadata": {},
   "outputs": [],
   "source": [
    "# Your code here:\n",
    "#Prophet reference already returns strings and not lists. Perhaps I needed more guidance; I don't know if this was meant to be solved with re\n",
    "\n",
    "\n"
   ]
  },
  {
   "cell_type": "markdown",
   "metadata": {},
   "source": [
    "# Challenge 2 - Filtering\n",
    "\n",
    "When printing out a few words from the book, we see that there are words that we may not want to keep if we choose to analyze the corpus of text. Below is a list of words that we would like to get rid of. Create a function that will return false if it contains a word from the list of words specified and true otherwise."
   ]
  },
  {
   "cell_type": "code",
   "execution_count": 50,
   "metadata": {},
   "outputs": [
    {
     "name": "stdout",
     "output_type": "stream",
     "text": [
      "11382\n",
      "['PROPHET   Almustafa ', 'chosen', 'who', 'was', 'dawn', 'unto', 'his', 'own day ', 'had', 'waited', 'twelve', 'years', 'in', 'city of', 'Orphalese', 'for', 'his', 'ship', 'that', 'was', 'to return', 'bear', 'him', 'back', 'to', 'isle', 'of his', 'birth   And', 'in', 'twelfth', 'year ', 'on', 'seventh day', 'of', 'Ielool ', 'month', 'of', 'reaping ', 'he climbed', 'hill', 'without', 'city', 'walls and', 'looked', 'seaward ', 'he', 'beheld', 'his ship', 'coming', 'with', 'mist   Then', 'gates', 'of', 'his', 'heart', 'were', 'flung open ', 'his', 'joy', 'flew', 'far', 'over', 'sea  And', 'he', 'closed', 'his', 'eyes', 'prayed', 'in', 'of', 'his', 'soul          But', 'as', 'he', 'descended', 'hill ', 'sadness came', 'upon', 'him ', 'he', 'thought', 'in', 'his heart   How', 'shall', 'I', 'go', 'in', 'peace', 'without sorrow ', 'Nay ', 'not', 'without', 'wound', 'in', 'shall', 'I', 'leave', 'this', 'city ', ' 8 Long were', 'days', 'of', 'pain', 'I', 'have', 'spent within', 'its', 'walls ', 'long', 'were', 'of', 'aloneness ', 'who', 'can', 'depart from', 'his', 'pain', 'his', 'aloneness', 'without regret   Too', 'many', 'fragments', 'of', 'spirit', 'have', 'I scattered', 'in', 'these', 'streets ', 'too', 'many are', 'children', 'of', 'my', 'longing', 'that', 'walk naked', 'among', 'these', 'hills ', 'I', 'cannot withdraw', 'from', 'them', 'without', 'burden', 'ache   It', 'is', 'not', 'garment', 'I', 'cast', 'off', 'this day ', 'but', 'skin', 'that', 'I', 'tear', 'with', 'my', 'own hands   Nor', 'is', 'it', 'thought', 'I', 'leave', 'behind', 'me  but', 'heart', 'made', 'sweet', 'with', 'hunger', 'thirst          Yet', 'I', 'cannot', 'tarry', 'longer   The', 'sea', 'that', 'calls', 'all', 'things', 'unto', 'her calls', 'me ', 'I', 'must', 'embark   For', 'to', 'stay ', 'though', 'hours', 'burn', 'in the', 'night ', 'is', 'to', 'freeze']\n",
      "\n",
      "\n",
      "----------\n",
      "['PROPHET Almustafa ', 'chosen', 'who', 'was', 'dawn', 'unto', 'his', 'own day ', 'had', 'waited', 'twelve', 'years', 'in', 'city of', 'Orphalese', 'for', 'his', 'ship', 'that', 'was', 'to return', 'bear', 'him', 'back', 'to', 'isle', 'of his', 'birth And', 'in', 'twelfth', 'year ', 'on', 'seventh day', 'of', 'Ielool ', 'month', 'of', 'reaping ', 'he climbed', 'hill', 'without', 'city', 'walls and', 'looked', 'seaward ', 'he', 'beheld', 'his ship', 'coming', 'with', 'mist Then', 'gates', 'of', 'his', 'heart', 'were', 'flung open ', 'his', 'joy', 'flew', 'far', 'over', 'sea And', 'he', 'closed', 'his', 'eyes', 'prayed', 'in', 'of', 'his', 'soul But', 'as', 'he', 'descended', 'hill ', 'sadness came', 'upon', 'him ', 'he', 'thought', 'in', 'his heart How', 'shall', 'I', 'go', 'in', 'peace', 'without sorrow ', 'Nay ', 'not', 'without', 'wound', 'in', 'shall', 'I', 'leave', 'this', 'city ', ' 8 Long were', 'days', 'of', 'pain', 'I', 'have', 'spent within', 'its', 'walls ', 'long', 'were', 'of', 'aloneness ', 'who', 'can', 'depart from', 'his', 'pain', 'his', 'aloneness', 'without regret Too', 'many', 'fragments', 'of', 'spirit', 'have', 'I scattered', 'in', 'these', 'streets ', 'too', 'many are', 'children', 'of', 'my', 'longing', 'that', 'walk naked', 'among', 'these', 'hills ', 'I', 'cannot withdraw', 'from', 'them', 'without', 'burden', 'ache It', 'is', 'not', 'garment', 'I', 'cast', 'off', 'this day ', 'but', 'skin', 'that', 'I', 'tear', 'with', 'my', 'own hands Nor', 'is', 'it', 'thought', 'I', 'leave', 'behind', 'me but', 'heart', 'made', 'sweet', 'with', 'hunger', 'thirst Yet', 'I', 'cannot', 'tarry', 'longer The', 'sea', 'that', 'calls', 'all', 'things', 'unto', 'her calls', 'me ', 'I', 'must', 'embark For', 'to', 'stay ', 'though', 'hours', 'burn', 'in the', 'night ', 'is', 'to', 'freeze', 'crystallize and', 'be', 'bound', 'in', 'mould Fain', 'would', 'I', 'take', 'with', 'me', 'all', 'that', 'is here ', 'But', 'how', 'shall', 'I A', 'voice', 'cannot', 'carry', 'tongue', 'lips', 'that', 'gave', 'it', 'wings ', 'Alone must', 'it', 'seek', 'ether And', 'alone', 'without', 'his', 'nest', 'shall', 'fly', 'across', 'sun Now', 'when', 'he', 'reached', 'foot', 'of', 'he', 'turned', 'again', 'towards', 'sea and', 'he', 'saw', 'his', 'ship', 'approaching', 'upon', 'her', 'prow', 'mariners the', 'men', 'of', 'his', 'own', 'land And', 'his', 'soul', 'cried', 'out', 'to', 'them ', 'he said Sons', 'of', 'my', 'ancient', 'mother ', 'you', 'riders', 'of the', 'tides How', 'often', 'have', 'you', 'sailed', 'in', 'my', 'dreams And', 'now', 'you', 'come', 'in', 'my', 'awakening ', 'which is', 'my', 'deeper', 'dream Ready', 'am', 'I', 'to', 'go ', 'my', 'eagerness', 'with sails', 'full', 'set', 'awaits', 'wind Only', 'another', 'breath', 'will', 'I', 'breathe', 'in this', 'still', 'air ', 'only', 'another', 'loving', 'look cast', 'backward And', 'then', 'I', 'shall', 'stand', 'among', 'you ', 'among', 'seafarers ', ' 10 And', 'you vast', 'sea ', 'sleepless', 'mother Who', 'alone', 'are', 'peace', 'freedom', 'to', 'stream Only', 'another', 'winding', 'will', 'this', 'stream make ', 'only', 'another', 'murmur', 'in', 'this', 'glade And', 'then', 'shall', 'I', 'come', 'to', 'you ', 'drop', 'to', 'boundless', 'ocean And', 'as', 'he', 'walked', 'he', 'saw', 'from', 'afar', 'men and', 'women', 'leaving', 'their', 'fields', 'their vineyards', 'hastening', 'towards', 'city gates And', 'he', 'heard', 'their', 'voices', 'calling', 'his name ', 'shouting', 'from', 'field', 'to', 'field telling', 'one', 'another', 'of', 'coming', 'of', 'his ship And', 'he', 'said', 'to', 'himself Shall', 'day', 'of', 'parting', 'be', 'day', 'of gathering And', 'shall', 'it', 'be', 'said', 'that', 'my', 'eve', 'was', 'in truth', 'my', 'dawn And', 'what', 'shall', 'I', 'give', 'unto', 'him', 'who', 'has left', 'his', 'plough', 'in', 'midfurrow ', 'or', 'to him', 'who', 'has', 'stopped', 'wheel', 'of', 'his winepress ', ' 11 Shall', 'my', 'heart', 'become', 'heavy laden', 'with', 'fruit', 'that', 'I', 'may gather', 'give', 'unto', 'them And', 'shall', 'my', 'desires', 'flow', 'like', 'that', 'I', 'may', 'fill', 'their', 'cups Am', 'I', 'harp', 'that', 'hand', 'of', 'mighty may', 'touch', 'me ', 'or', 'flute', 'that', 'his', 'breath may', 'pass', 'through', 'me A', 'seeker', 'of', 'silences', 'am', 'I ', 'what treasure', 'have', 'I', 'found', 'in', 'silences', 'that', 'I may', 'dispense', 'with', 'confidence If', 'this', 'is', 'my', 'day', 'of', 'harvest ', 'in', 'what fields', 'have', 'I', 'sowed', 'seed ']\n",
      "11382\n"
     ]
    }
   ],
   "source": [
    "import re\n",
    "def word_filter(x):\n",
    "    '''\n",
    "    Input: A string\n",
    "    Output: true if the word is not in the specified list and false if the word is in the list\n",
    "        \n",
    "    Example:\n",
    "    word list = ['and', 'the']\n",
    "    Input: 'and'\n",
    "    Output: False\n",
    "    \n",
    "    Input: 'John'\n",
    "    Output: True\n",
    "    '''\n",
    "    word_list = ['and', 'the', 'a', 'an']\n",
    "    # Your code here:\n",
    "    for word in x.split():\n",
    "        if word in word_list:\n",
    "            return False\n",
    "        elif word not in word_list:\n",
    "            return True\n",
    " \n",
    "\n",
    "prophet_filter = list(filter(word_filter, prophet_reference))\n",
    "print(len(prophet_filter))\n",
    "new_prophet = []\n",
    "for e in prophet_filter:\n",
    "    e = re.sub(r'\\s+', ' ', e)\n",
    "    new_prophet.append(e)\n",
    "            \n",
    "print(prophet_filter[0:200])\n",
    "print('\\n\\n----------')\n",
    "print(new_prophet[0:500])\n",
    "print(len(new_prophet))\n",
    "\n",
    "\n",
    "\n",
    "\n"
   ]
  },
  {
   "cell_type": "markdown",
   "metadata": {},
   "source": [
    "Use the `filter()` function to filter out the words speficied in the `word_filter()` function. Store the filtered list in the variable `prophet_filter`."
   ]
  },
  {
   "cell_type": "markdown",
   "metadata": {},
   "source": [
    "# Bonus Challenge - Part 1\n",
    "\n",
    "Rewrite the `word_filter` function above to not be case sensitive."
   ]
  },
  {
   "cell_type": "code",
   "execution_count": 53,
   "metadata": {},
   "outputs": [
    {
     "name": "stdout",
     "output_type": "stream",
     "text": [
      "11382\n"
     ]
    }
   ],
   "source": [
    "def word_filter_case(x):\n",
    "   \n",
    "    word_list = ['and', 'the', 'a', 'an']\n",
    "    \n",
    "    # Your code here:\n",
    "    for word in x.split(\" \"):\n",
    "        word = word.lower()\n",
    "        if word in word_list:\n",
    "            return False\n",
    "        elif word not in word_list:\n",
    "            return True\n",
    "\n",
    "prophet_bonus = list(filter(word_filter_case, new_prophet))\n",
    "print(len(new_prophet))\n",
    "\n",
    "  "
   ]
  },
  {
   "cell_type": "markdown",
   "metadata": {},
   "source": [
    "# Challenge 3 - Reducing\n",
    "\n",
    "#### Now that we have significantly cleaned up our text corpus, let's use the `reduce()` function to put the words back together into one long string separated by spaces. \n",
    "\n",
    "We will start by writing a function that takes two strings and concatenates them together with a space between the two strings."
   ]
  },
  {
   "cell_type": "code",
   "execution_count": 54,
   "metadata": {},
   "outputs": [],
   "source": [
    "def concat_space(a, b):\n",
    "    '''\n",
    "    Input:Two strings\n",
    "    Output: A single string separated by a space\n",
    "        \n",
    "    Example:\n",
    "    Input: 'John', 'Smith'\n",
    "    Output: 'John Smith'\n",
    "    '''\n",
    "    \n",
    "    # Your code here:\n",
    "    return a + \" \" + b\n",
    "    "
   ]
  },
  {
   "cell_type": "markdown",
   "metadata": {},
   "source": [
    "Use the function above to reduce the text corpus in the list `prophet_filter` into a single string. Assign this new string to the variable `prophet_string`."
   ]
  },
  {
   "cell_type": "code",
   "execution_count": 55,
   "metadata": {},
   "outputs": [],
   "source": [
    "# Your code here:\n",
    "from functools import reduce\n",
    "\n",
    "prophet_string = list(reduce(concat_space, prophet_filter))\n",
    "\n"
   ]
  },
  {
   "cell_type": "markdown",
   "metadata": {},
   "source": [
    "# Challenge 4 - Applying Functions to DataFrames\n",
    "\n",
    "#### Our next step is to use the apply function to a dataframe and transform all cells.\n",
    "\n",
    "To do this, we will load a dataset below and then write a function that will perform the transformation."
   ]
  },
  {
   "cell_type": "code",
   "execution_count": 56,
   "metadata": {},
   "outputs": [],
   "source": [
    "# Run this code:\n",
    "\n",
    "# The dataset below contains information about pollution from PM2.5 particles in Beijing \n",
    "\n",
    "url = \"https://archive.ics.uci.edu/ml/machine-learning-databases/00381/PRSA_data_2010.1.1-2014.12.31.csv\"\n",
    "pm25 = pd.read_csv(url)"
   ]
  },
  {
   "cell_type": "markdown",
   "metadata": {},
   "source": [
    "Let's look at the data using the `head()` function."
   ]
  },
  {
   "cell_type": "code",
   "execution_count": 57,
   "metadata": {},
   "outputs": [
    {
     "data": {
      "text/html": [
       "<div>\n",
       "<style scoped>\n",
       "    .dataframe tbody tr th:only-of-type {\n",
       "        vertical-align: middle;\n",
       "    }\n",
       "\n",
       "    .dataframe tbody tr th {\n",
       "        vertical-align: top;\n",
       "    }\n",
       "\n",
       "    .dataframe thead th {\n",
       "        text-align: right;\n",
       "    }\n",
       "</style>\n",
       "<table border=\"1\" class=\"dataframe\">\n",
       "  <thead>\n",
       "    <tr style=\"text-align: right;\">\n",
       "      <th></th>\n",
       "      <th>No</th>\n",
       "      <th>year</th>\n",
       "      <th>month</th>\n",
       "      <th>day</th>\n",
       "      <th>hour</th>\n",
       "      <th>pm2.5</th>\n",
       "      <th>DEWP</th>\n",
       "      <th>TEMP</th>\n",
       "      <th>PRES</th>\n",
       "      <th>cbwd</th>\n",
       "      <th>Iws</th>\n",
       "      <th>Is</th>\n",
       "      <th>Ir</th>\n",
       "    </tr>\n",
       "  </thead>\n",
       "  <tbody>\n",
       "    <tr>\n",
       "      <th>0</th>\n",
       "      <td>1</td>\n",
       "      <td>2010</td>\n",
       "      <td>1</td>\n",
       "      <td>1</td>\n",
       "      <td>0</td>\n",
       "      <td>NaN</td>\n",
       "      <td>-21</td>\n",
       "      <td>-11.0</td>\n",
       "      <td>1021.0</td>\n",
       "      <td>NW</td>\n",
       "      <td>1.79</td>\n",
       "      <td>0</td>\n",
       "      <td>0</td>\n",
       "    </tr>\n",
       "    <tr>\n",
       "      <th>1</th>\n",
       "      <td>2</td>\n",
       "      <td>2010</td>\n",
       "      <td>1</td>\n",
       "      <td>1</td>\n",
       "      <td>1</td>\n",
       "      <td>NaN</td>\n",
       "      <td>-21</td>\n",
       "      <td>-12.0</td>\n",
       "      <td>1020.0</td>\n",
       "      <td>NW</td>\n",
       "      <td>4.92</td>\n",
       "      <td>0</td>\n",
       "      <td>0</td>\n",
       "    </tr>\n",
       "    <tr>\n",
       "      <th>2</th>\n",
       "      <td>3</td>\n",
       "      <td>2010</td>\n",
       "      <td>1</td>\n",
       "      <td>1</td>\n",
       "      <td>2</td>\n",
       "      <td>NaN</td>\n",
       "      <td>-21</td>\n",
       "      <td>-11.0</td>\n",
       "      <td>1019.0</td>\n",
       "      <td>NW</td>\n",
       "      <td>6.71</td>\n",
       "      <td>0</td>\n",
       "      <td>0</td>\n",
       "    </tr>\n",
       "    <tr>\n",
       "      <th>3</th>\n",
       "      <td>4</td>\n",
       "      <td>2010</td>\n",
       "      <td>1</td>\n",
       "      <td>1</td>\n",
       "      <td>3</td>\n",
       "      <td>NaN</td>\n",
       "      <td>-21</td>\n",
       "      <td>-14.0</td>\n",
       "      <td>1019.0</td>\n",
       "      <td>NW</td>\n",
       "      <td>9.84</td>\n",
       "      <td>0</td>\n",
       "      <td>0</td>\n",
       "    </tr>\n",
       "    <tr>\n",
       "      <th>4</th>\n",
       "      <td>5</td>\n",
       "      <td>2010</td>\n",
       "      <td>1</td>\n",
       "      <td>1</td>\n",
       "      <td>4</td>\n",
       "      <td>NaN</td>\n",
       "      <td>-20</td>\n",
       "      <td>-12.0</td>\n",
       "      <td>1018.0</td>\n",
       "      <td>NW</td>\n",
       "      <td>12.97</td>\n",
       "      <td>0</td>\n",
       "      <td>0</td>\n",
       "    </tr>\n",
       "    <tr>\n",
       "      <th>5</th>\n",
       "      <td>6</td>\n",
       "      <td>2010</td>\n",
       "      <td>1</td>\n",
       "      <td>1</td>\n",
       "      <td>5</td>\n",
       "      <td>NaN</td>\n",
       "      <td>-19</td>\n",
       "      <td>-10.0</td>\n",
       "      <td>1017.0</td>\n",
       "      <td>NW</td>\n",
       "      <td>16.10</td>\n",
       "      <td>0</td>\n",
       "      <td>0</td>\n",
       "    </tr>\n",
       "    <tr>\n",
       "      <th>6</th>\n",
       "      <td>7</td>\n",
       "      <td>2010</td>\n",
       "      <td>1</td>\n",
       "      <td>1</td>\n",
       "      <td>6</td>\n",
       "      <td>NaN</td>\n",
       "      <td>-19</td>\n",
       "      <td>-9.0</td>\n",
       "      <td>1017.0</td>\n",
       "      <td>NW</td>\n",
       "      <td>19.23</td>\n",
       "      <td>0</td>\n",
       "      <td>0</td>\n",
       "    </tr>\n",
       "    <tr>\n",
       "      <th>7</th>\n",
       "      <td>8</td>\n",
       "      <td>2010</td>\n",
       "      <td>1</td>\n",
       "      <td>1</td>\n",
       "      <td>7</td>\n",
       "      <td>NaN</td>\n",
       "      <td>-19</td>\n",
       "      <td>-9.0</td>\n",
       "      <td>1017.0</td>\n",
       "      <td>NW</td>\n",
       "      <td>21.02</td>\n",
       "      <td>0</td>\n",
       "      <td>0</td>\n",
       "    </tr>\n",
       "    <tr>\n",
       "      <th>8</th>\n",
       "      <td>9</td>\n",
       "      <td>2010</td>\n",
       "      <td>1</td>\n",
       "      <td>1</td>\n",
       "      <td>8</td>\n",
       "      <td>NaN</td>\n",
       "      <td>-19</td>\n",
       "      <td>-9.0</td>\n",
       "      <td>1017.0</td>\n",
       "      <td>NW</td>\n",
       "      <td>24.15</td>\n",
       "      <td>0</td>\n",
       "      <td>0</td>\n",
       "    </tr>\n",
       "    <tr>\n",
       "      <th>9</th>\n",
       "      <td>10</td>\n",
       "      <td>2010</td>\n",
       "      <td>1</td>\n",
       "      <td>1</td>\n",
       "      <td>9</td>\n",
       "      <td>NaN</td>\n",
       "      <td>-20</td>\n",
       "      <td>-8.0</td>\n",
       "      <td>1017.0</td>\n",
       "      <td>NW</td>\n",
       "      <td>27.28</td>\n",
       "      <td>0</td>\n",
       "      <td>0</td>\n",
       "    </tr>\n",
       "  </tbody>\n",
       "</table>\n",
       "</div>"
      ],
      "text/plain": [
       "   No  year  month  day  hour  pm2.5  DEWP  TEMP    PRES cbwd    Iws  Is  Ir\n",
       "0   1  2010      1    1     0    NaN   -21 -11.0  1021.0   NW   1.79   0   0\n",
       "1   2  2010      1    1     1    NaN   -21 -12.0  1020.0   NW   4.92   0   0\n",
       "2   3  2010      1    1     2    NaN   -21 -11.0  1019.0   NW   6.71   0   0\n",
       "3   4  2010      1    1     3    NaN   -21 -14.0  1019.0   NW   9.84   0   0\n",
       "4   5  2010      1    1     4    NaN   -20 -12.0  1018.0   NW  12.97   0   0\n",
       "5   6  2010      1    1     5    NaN   -19 -10.0  1017.0   NW  16.10   0   0\n",
       "6   7  2010      1    1     6    NaN   -19  -9.0  1017.0   NW  19.23   0   0\n",
       "7   8  2010      1    1     7    NaN   -19  -9.0  1017.0   NW  21.02   0   0\n",
       "8   9  2010      1    1     8    NaN   -19  -9.0  1017.0   NW  24.15   0   0\n",
       "9  10  2010      1    1     9    NaN   -20  -8.0  1017.0   NW  27.28   0   0"
      ]
     },
     "execution_count": 57,
     "metadata": {},
     "output_type": "execute_result"
    }
   ],
   "source": [
    "# Your code here:\n",
    "pm25.head(10)\n"
   ]
  },
  {
   "cell_type": "markdown",
   "metadata": {},
   "source": [
    "The next step is to create a function that divides a cell by 24 to produce an hourly figure. Write the function below."
   ]
  },
  {
   "cell_type": "code",
   "execution_count": 58,
   "metadata": {},
   "outputs": [],
   "source": [
    "def hourly(x):\n",
    "    '''\n",
    "    Input: A numerical value\n",
    "    Output: The value divided by 24\n",
    "        \n",
    "    Example:\n",
    "    Input: 48\n",
    "    Output: 2.0\n",
    "    '''\n",
    "    \n",
    "    # Your code here:\n",
    "    return x/24"
   ]
  },
  {
   "cell_type": "markdown",
   "metadata": {},
   "source": [
    "Apply this function to the columns `Iws`, `Is`, and `Ir`. Store this new dataframe in the variable `pm25_hourly`."
   ]
  },
  {
   "cell_type": "code",
   "execution_count": 59,
   "metadata": {},
   "outputs": [
    {
     "data": {
      "text/html": [
       "<div>\n",
       "<style scoped>\n",
       "    .dataframe tbody tr th:only-of-type {\n",
       "        vertical-align: middle;\n",
       "    }\n",
       "\n",
       "    .dataframe tbody tr th {\n",
       "        vertical-align: top;\n",
       "    }\n",
       "\n",
       "    .dataframe thead th {\n",
       "        text-align: right;\n",
       "    }\n",
       "</style>\n",
       "<table border=\"1\" class=\"dataframe\">\n",
       "  <thead>\n",
       "    <tr style=\"text-align: right;\">\n",
       "      <th></th>\n",
       "      <th>Iws</th>\n",
       "      <th>Is</th>\n",
       "      <th>Ir</th>\n",
       "    </tr>\n",
       "  </thead>\n",
       "  <tbody>\n",
       "    <tr>\n",
       "      <th>0</th>\n",
       "      <td>0.074583</td>\n",
       "      <td>0.0</td>\n",
       "      <td>0.0</td>\n",
       "    </tr>\n",
       "    <tr>\n",
       "      <th>1</th>\n",
       "      <td>0.205000</td>\n",
       "      <td>0.0</td>\n",
       "      <td>0.0</td>\n",
       "    </tr>\n",
       "    <tr>\n",
       "      <th>2</th>\n",
       "      <td>0.279583</td>\n",
       "      <td>0.0</td>\n",
       "      <td>0.0</td>\n",
       "    </tr>\n",
       "    <tr>\n",
       "      <th>3</th>\n",
       "      <td>0.410000</td>\n",
       "      <td>0.0</td>\n",
       "      <td>0.0</td>\n",
       "    </tr>\n",
       "    <tr>\n",
       "      <th>4</th>\n",
       "      <td>0.540417</td>\n",
       "      <td>0.0</td>\n",
       "      <td>0.0</td>\n",
       "    </tr>\n",
       "    <tr>\n",
       "      <th>5</th>\n",
       "      <td>0.670833</td>\n",
       "      <td>0.0</td>\n",
       "      <td>0.0</td>\n",
       "    </tr>\n",
       "    <tr>\n",
       "      <th>6</th>\n",
       "      <td>0.801250</td>\n",
       "      <td>0.0</td>\n",
       "      <td>0.0</td>\n",
       "    </tr>\n",
       "    <tr>\n",
       "      <th>7</th>\n",
       "      <td>0.875833</td>\n",
       "      <td>0.0</td>\n",
       "      <td>0.0</td>\n",
       "    </tr>\n",
       "    <tr>\n",
       "      <th>8</th>\n",
       "      <td>1.006250</td>\n",
       "      <td>0.0</td>\n",
       "      <td>0.0</td>\n",
       "    </tr>\n",
       "    <tr>\n",
       "      <th>9</th>\n",
       "      <td>1.136667</td>\n",
       "      <td>0.0</td>\n",
       "      <td>0.0</td>\n",
       "    </tr>\n",
       "  </tbody>\n",
       "</table>\n",
       "</div>"
      ],
      "text/plain": [
       "        Iws   Is   Ir\n",
       "0  0.074583  0.0  0.0\n",
       "1  0.205000  0.0  0.0\n",
       "2  0.279583  0.0  0.0\n",
       "3  0.410000  0.0  0.0\n",
       "4  0.540417  0.0  0.0\n",
       "5  0.670833  0.0  0.0\n",
       "6  0.801250  0.0  0.0\n",
       "7  0.875833  0.0  0.0\n",
       "8  1.006250  0.0  0.0\n",
       "9  1.136667  0.0  0.0"
      ]
     },
     "execution_count": 59,
     "metadata": {},
     "output_type": "execute_result"
    }
   ],
   "source": [
    "# Your code here:\n",
    "\n",
    "pm25_hourly = hourly(pm25[['Iws', 'Is', 'Ir']])\n",
    "pm25_hourly.head(10)\n"
   ]
  },
  {
   "cell_type": "markdown",
   "metadata": {},
   "source": [
    "#### Our last challenge will be to create an aggregate function and apply it to a select group of columns in our dataframe.\n",
    "\n",
    "Write a function that returns the standard deviation of a column divided by the length of a column minus 1. Since we are using pandas, do not use the `len()` function. One alternative is to use `count()`. Also, use the numpy version of standard deviation."
   ]
  },
  {
   "cell_type": "code",
   "execution_count": 60,
   "metadata": {},
   "outputs": [],
   "source": [
    "def sample_sd(x):\n",
    "    '''\n",
    "    Input: A Pandas series of values\n",
    "    Output: the standard deviation divided by the number of elements in the series\n",
    "        \n",
    "    Example:\n",
    "    Input: pd.Series([1,2,3,4])\n",
    "    Output: 0.3726779962\n",
    "    '''\n",
    "    # Your code here:\n",
    "    std = np.std(x)\n",
    "    \n",
    "    return std / x.count()\n",
    "    \n",
    "    \n",
    "    "
   ]
  },
  {
   "cell_type": "code",
   "execution_count": 61,
   "metadata": {},
   "outputs": [
    {
     "data": {
      "text/plain": [
       "0.0011411569933589816"
      ]
     },
     "execution_count": 61,
     "metadata": {},
     "output_type": "execute_result"
    }
   ],
   "source": [
    "#testing the code\n",
    "sample_sd(pm25['Iws'])"
   ]
  },
  {
   "cell_type": "code",
   "execution_count": null,
   "metadata": {},
   "outputs": [],
   "source": []
  }
 ],
 "metadata": {
  "kernelspec": {
   "display_name": "Python 3",
   "language": "python",
   "name": "python3"
  },
  "language_info": {
   "codemirror_mode": {
    "name": "ipython",
    "version": 3
   },
   "file_extension": ".py",
   "mimetype": "text/x-python",
   "name": "python",
   "nbconvert_exporter": "python",
   "pygments_lexer": "ipython3",
   "version": "3.7.3"
  }
 },
 "nbformat": 4,
 "nbformat_minor": 2
}
