{
 "cells": [
  {
   "cell_type": "code",
   "execution_count": null,
   "metadata": {},
   "outputs": [],
   "source": [
    "\"\"\"\n",
    "no pude solucionarlo. En la documentación de git hub intenté lo que comentaron de entrar \n",
    "con mi token, por ejemplo con los comandos curl -i -H \"Authentication: token 393939393933939\"\n",
    "https://api.github.com/user \n",
    "\n",
    "pero me dijo \"not found\". \n",
    "\n",
    "Después de eso se pueden ver mis repositorios según yo. \n",
    "\n",
    "\"\"\"\n",
    "\n"
   ]
  }
 ],
 "metadata": {
  "kernelspec": {
   "display_name": "Python 3",
   "language": "python",
   "name": "python3"
  },
  "language_info": {
   "codemirror_mode": {
    "name": "ipython",
    "version": 3
   },
   "file_extension": ".py",
   "mimetype": "text/x-python",
   "name": "python",
   "nbconvert_exporter": "python",
   "pygments_lexer": "ipython3",
   "version": "3.7.4"
  }
 },
 "nbformat": 4,
 "nbformat_minor": 2
}
